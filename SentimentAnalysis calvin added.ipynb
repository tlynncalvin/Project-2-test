{
 "cells": [
  {
   "cell_type": "code",
   "execution_count": 32,
   "id": "572810bd-9902-4f0d-beee-ad96fc5d6b2d",
   "metadata": {},
   "outputs": [
    {
     "data": {
      "text/plain": [
       "True"
      ]
     },
     "execution_count": 32,
     "metadata": {},
     "output_type": "execute_result"
    }
   ],
   "source": [
    "# Initial imports\n",
    "import os\n",
    "import pandas as pd\n",
    "from newsapi import NewsApiClient\n",
    "from dotenv import load_dotenv\n",
    "from env import News_Api_Key\n",
    "load_dotenv()"
   ]
  },
  {
   "cell_type": "code",
   "execution_count": 33,
   "id": "b65c6337-6b05-4a28-bcda-5fdc425f7f81",
   "metadata": {},
   "outputs": [],
   "source": [
    "# Create a newsapi client\n",
    "newsapi = NewsApiClient(api_key=News_Api_Key)"
   ]
  },
  {
   "cell_type": "code",
   "execution_count": 35,
   "id": "931194a9-42a1-4646-97ac-9fc2977dc357",
   "metadata": {},
   "outputs": [],
   "source": [
    "# Reading the News API key enviroment variable\n",
    "# api_key = os.getenv(News_Api_Key)"
   ]
  },
  {
   "cell_type": "code",
   "execution_count": 36,
   "id": "1d99544c-036a-48be-92b7-acba6c4e7135",
   "metadata": {},
   "outputs": [
    {
     "data": {
      "text/plain": [
       "{'status': 'ok',\n",
       " 'totalResults': 3839,\n",
       " 'articles': [{'source': {'id': 'the-verge', 'name': 'The Verge'},\n",
       "   'author': 'Corin Faife',\n",
       "   'title': 'Crypto.com admits over $30 million stolen by hackers',\n",
       "   'description': 'Cryptocurrency exchange Crypto.com has said that $15 million in ethereum and $18 million in bitcoin were stolen by hackers in a security breach',\n",
       "   'url': 'https://www.theverge.com/2022/1/20/22892958/crypto-com-exchange-hack-bitcoin-ethereum-security',\n",
       "   'urlToImage': 'https://cdn.vox-cdn.com/thumbor/mde_l3lUC4muDPEFG7LYrUz0O3g=/0x146:2040x1214/fit-in/1200x630/cdn.vox-cdn.com/uploads/chorus_asset/file/8921023/acastro_bitcoin_2.jpg',\n",
       "   'publishedAt': '2022-01-20T13:23:31Z',\n",
       "   'content': 'In a new blog post the company said that 4,836 ETH and 443 bitcoin were taken\\r\\nIllustration by Alex Castro / The Verge\\r\\nIn a blog post published in the early hours of Thursday morning, cryptocurrency… [+2004 chars]'},\n",
       "  {'source': {'id': None, 'name': 'Gizmodo.com'},\n",
       "   'author': 'Matt Novak',\n",
       "   'title': \"Hackers Launder $15 Million Stolen From Crypto.com Using Ethereum 'Mixer'\",\n",
       "   'description': 'Hackers who made off with roughly $15 million in ethereum from Crypto.com are attempting to launder the funds through a so-called ethereum “mixer,” known as Tornado Cash, according to a new report from crypto security company Peck Shield. Mixers run interfere…',\n",
       "   'url': 'https://gizmodo.com/hackers-launder-15-million-stolen-from-crypto-com-usin-1848382047',\n",
       "   'urlToImage': 'https://i.kinja-img.com/gawker-media/image/upload/c_fill,f_auto,fl_progressive,g_center,h_675,pg_1,q_80,w_1200/095412f6643caa78a11e6be71bceceb4.jpg',\n",
       "   'publishedAt': '2022-01-19T12:00:00Z',\n",
       "   'content': 'Hackers who made off with roughly $15 million in ethereum from Crypto.com are attempting to launder the funds through a so-called ethereum mixer, known as Tornado Cash, according to a new report from… [+3891 chars]'},\n",
       "  {'source': {'id': None, 'name': 'New York Times'},\n",
       "   'author': 'Dana Rubinstein, Jonah E. Bromwich and Jeffery C. Mays',\n",
       "   'title': 'Eric Adams Is Taking His First Paycheck in Crypto',\n",
       "   'description': 'Mr. Adams, who wants New York City to become the global capital for cryptocurrency, will have his paycheck converted into Bitcoin and Ethereum.',\n",
       "   'url': 'https://www.nytimes.com/2022/01/20/nyregion/eric-adams-bitcoin-cryptocurrency.html',\n",
       "   'urlToImage': 'https://static01.nyt.com/images/2022/01/20/nyregion/20adams-crypto01/20adams-crypto01-facebookJumbo.jpg',\n",
       "   'publishedAt': '2022-01-20T19:54:48Z',\n",
       "   'content': 'On some level, the new mayor is simply employing an age-old political strategy: making overtures to the business community. Fintech is a growing field in New York City, and blockchain-based companies… [+1562 chars]'},\n",
       "  {'source': {'id': 'engadget', 'name': 'Engadget'},\n",
       "   'author': 'Igor Bonifacic',\n",
       "   'title': 'Robinhood opens cryptocurrency wallet to beta testers',\n",
       "   'description': 'Back in September\\r\\n, Robinhood announced plans to test a cryptocurrency wallet within its app. At the time, the company said it would open the beta to a small number of people before expanding availability ahead of a full-scale release. If you joined the wait…',\n",
       "   'url': 'https://www.engadget.com/robinhood-cryptocurrency-wallet-beta-225721593.html',\n",
       "   'urlToImage': 'https://s.yimg.com/os/creatr-uploaded-images/2021-09/5035fef0-1bd6-11ec-b7e5-a610838e0b98',\n",
       "   'publishedAt': '2022-01-21T22:57:21Z',\n",
       "   'content': 'Back in September\\r\\n, Robinhood announced plans to test a cryptocurrency wallet within its app. At the time, the company said it would open the beta to a small number of people before expanding availa… [+1069 chars]'},\n",
       "  {'source': {'id': 'wired', 'name': 'Wired'},\n",
       "   'author': 'Omar L. Gallaga',\n",
       "   'title': 'Playing With Crypto? You’ll Need a Wallet (or Several)',\n",
       "   'description': 'Buying and selling NFTs or transferring digital currency is going to require a little leap of faith. Here’s how to get started.',\n",
       "   'url': 'https://www.wired.com/story/how-to-choose-set-up-crypto-wallet/',\n",
       "   'urlToImage': 'https://media.wired.com/photos/620415899266d5d11c07b346/191:100/w_1280,c_limit/Gear-Coinbase-App-Screens.jpg',\n",
       "   'publishedAt': '2022-02-10T14:00:00Z',\n",
       "   'content': \"If people who buy cryptocurrencies intended only to hold on to them as speculative investments, there'd be no real need for crypto wallets. Exchanges and online brokerages that convert dollars to, sa… [+3031 chars]\"},\n",
       "  {'source': {'id': 'wired', 'name': 'Wired'},\n",
       "   'author': 'Tascha Che',\n",
       "   'title': 'Public Blockchains Are the New National Economies of the Metaverse',\n",
       "   'description': 'The “fiscal” and “monetary” policy tools of smart contract blockchain platforms\\xa0may work even\\xa0better than the economic policy tools of governments.',\n",
       "   'url': 'https://www.wired.com/story/blockchain-cryptocurrency-economics/',\n",
       "   'urlToImage': 'https://media.wired.com/photos/6202ea0049455570f3fe45b9/191:100/w_1280,c_limit/Public-Blockchains-Are-the-New-National-Economies-of-the-Metaverse.jpg',\n",
       "   'publishedAt': '2022-02-09T12:00:00Z',\n",
       "   'content': 'This enables an L1 platform to bootstrap its national economy over time through a flywheel between financial speculation around its native token and actual building of applications and activities in … [+4057 chars]'},\n",
       "  {'source': {'id': None, 'name': 'Gizmodo.com'},\n",
       "   'author': 'Matt Novak',\n",
       "   'title': 'Crypto.com Finally Acknowledges $34 Million Stolen by Hackers',\n",
       "   'description': 'Trading platform Crypto.com lost about $34 million worth of cryptocurrency in a hack on Monday, according to a new blog post by the company published overnight. The company had previously declined to say much about the hack, which forced users to stop withdra…',\n",
       "   'url': 'https://gizmodo.com/crypto-com-finally-acknowledges-34-million-stolen-by-h-1848389819',\n",
       "   'urlToImage': 'https://i.kinja-img.com/gawker-media/image/upload/c_fill,f_auto,fl_progressive,g_center,h_675,pg_1,q_80,w_1200/3c7e7ff30b167a88b03f3ef59220cd22.jpg',\n",
       "   'publishedAt': '2022-01-20T12:00:00Z',\n",
       "   'content': 'Trading platform Crypto.com lost about $34 million worth of cryptocurrency in a hack on Monday, according to a new blog post by the company published overnight. The company had previously declined to… [+2933 chars]'},\n",
       "  {'source': {'id': 'business-insider', 'name': 'Business Insider'},\n",
       "   'author': 'insider@insider.com (Carter Kilmann)',\n",
       "   'title': 'How to mine Ethereum: A step-by-step guide',\n",
       "   'description': \"Ethereum mining is a lot more accessible now — here's everything to know about how to mine ether.\",\n",
       "   'url': 'https://www.businessinsider.com/personal-finance/how-to-mine-ethereum',\n",
       "   'urlToImage': 'https://i.insider.com/61d7130f95f1b9001837813d?width=1200&format=jpeg',\n",
       "   'publishedAt': '2022-01-18T21:40:58Z',\n",
       "   'content': \"Ethereum is a digital platform that runs on blockchain technology. It's most commonly known for its smart contract functionality and native cryptocurrency, ether. The broader purpose of the Ethereum … [+10591 chars]\"},\n",
       "  {'source': {'id': None, 'name': 'Slashdot.org'},\n",
       "   'author': 'msmash',\n",
       "   'title': 'LooksRare Has Reportedly Generated $8B in Ethereum NFT Wash Trading',\n",
       "   'description': \"LooksRare seemingly came out of nowhere to become the biggest rival yet to leading NFT marketplace OpenSea earlier this month, but there's a big asterisk on the astronomical trading figures coming out of the platform. From a report: It's marred by rampant was…\",\n",
       "   'url': 'https://slashdot.org/story/22/01/31/1533225/looksrare-has-reportedly-generated-8b-in-ethereum-nft-wash-trading',\n",
       "   'urlToImage': 'https://a.fsdn.com/sd/topics/business_64.png',\n",
       "   'publishedAt': '2022-01-31T15:33:00Z',\n",
       "   'content': 'The means-and-ends moralists, or non-doers, always end up on their ends\\r\\nwithout any means.\\r\\n-- Saul Alinsky'},\n",
       "  {'source': {'id': 'business-insider', 'name': 'Business Insider'},\n",
       "   'author': 'insider@insider.com (Adam Morgan McCarthy)',\n",
       "   'title': \"Colorado will accept crypto for payment of state taxes by the summer, with drivers' and hunting licenses to follow, Gov. Polis says\",\n",
       "   'description': \"But the state of Colorado won't hold ethereum or bitcoin, as it isn't permitted to do so, Gov. Jared Polis told CNBC.\",\n",
       "   'url': 'https://markets.businessinsider.com/news/currencies/colorado-crypto-tax-payments-polis-state-bitcoin-governor-us-cryptocurrency-2022-2',\n",
       "   'urlToImage': 'https://i.insider.com/620d0171da5ac00018fe85d9?width=1200&format=jpeg',\n",
       "   'publishedAt': '2022-02-16T15:36:57Z',\n",
       "   'content': \"People in Colorado will be able to pay their state taxes in cryptocurrency by the middle of this year, the US state's governor has revealed.\\r\\nGov. Jared Polis laid out the timing of the move, a longt… [+2206 chars]\"},\n",
       "  {'source': {'id': 'the-next-web', 'name': 'The Next Web'},\n",
       "   'author': 'Thomas Macaulay',\n",
       "   'title': 'Ethereum inventor wants to replace pregnant women with synthetic wombs',\n",
       "   'description': 'Crypto bros never tire of sharing their utopian visions, but their big brain ideas aren’t always embraced by the proles. Vitalik Buterin, the co-founder and inventor of Ethereum, has become the latest victim of this insolence. The 27-year-old had pitched a bo…',\n",
       "   'url': 'https://thenextweb.com/news/ethereum-founder-vitalik-buterin-wants-synthetic-wombs',\n",
       "   'urlToImage': 'https://img-cdn.tnwcdn.com/image/hardfork?filter_last=1&fit=1280%2C640&url=https%3A%2F%2Fcdn0.tnwcdn.com%2Fwp-content%2Fblogs.dir%2F1%2Ffiles%2F2022%2F01%2FUntitled-design-2-4.jpg&signature=8b0bf04a88388b1e5a9859dfd538d68a',\n",
       "   'publishedAt': '2022-01-20T20:11:43Z',\n",
       "   'content': 'Crypto bros never tire of sharing their utopian visions, but their big brain ideas arent always embraced by the proles.\\r\\nVitalik Buterin, the co-founder and inventor of Ethereum, has become the lates… [+1727 chars]'},\n",
       "  {'source': {'id': None, 'name': 'Entrepreneur'},\n",
       "   'author': 'Emily Rella',\n",
       "   'title': 'Crypto Exchange Shuts Down Withdrawals After Hackers Reportedly Steal $33 Million in Bitcoin, Ethereum',\n",
       "   'description': 'Crypto.com issued a statement after multiple users reported suspicious activity on their accounts.',\n",
       "   'url': 'https://www.entrepreneur.com/article/413938',\n",
       "   'urlToImage': 'https://assets.entrepreneur.com/content/3x2/2000/1642609239-GettyImages-1191008946.jpg',\n",
       "   'publishedAt': '2022-01-19T16:20:48Z',\n",
       "   'content': \"The crypto market's whiplash volatility\\xa0can make investing in certain coins feel like a major gamble, especially to those less familiar\\xa0with the ins and outs of digital wallets and blockchain technol… [+1986 chars]\"},\n",
       "  {'source': {'id': 'reuters', 'name': 'Reuters'},\n",
       "   'author': None,\n",
       "   'title': 'Polygon raises $450 mln from Sequoia Capital India, SoftBank Vision Fund 2, others - Reuters',\n",
       "   'description': 'Polygon, a decentralized scaling platform for the ethereum blockchain, announced on Monday it has raised $450 million in its latest funding round led by Sequoia Capital India and including investments from SoftBank\\'s <a href=\"https://www.reuters.com/companies…',\n",
       "   'url': 'https://www.reuters.com/markets/funds/polygon-raises-450-mln-sequoia-capital-india-softbank-vision-fund-2-others-2022-02-07/',\n",
       "   'urlToImage': 'https://www.reuters.com/pf/resources/images/reuters/reuters-default.png?d=70',\n",
       "   'publishedAt': '2022-02-07T16:38:00Z',\n",
       "   'content': 'Feb 7 (Reuters) - Polygon, a decentralized scaling platform for the ethereum blockchain, announced on Monday it has raised $450 million in its latest funding round led by Sequoia Capital India and in… [+1641 chars]'},\n",
       "  {'source': {'id': None, 'name': 'The Economist'},\n",
       "   'author': 'The Economist',\n",
       "   'title': 'The race to dominate the DeFi ecosystem is on',\n",
       "   'description': 'Why Ethereum is losing market share',\n",
       "   'url': 'https://www.economist.com/finance-and-economics/2022/01/22/the-race-to-dominate-the-defi-ecosystem-is-on',\n",
       "   'urlToImage': 'https://www.economist.com/img/b/1280/720/90/sites/default/files/images/print-edition/20220122_FND001_0.jpg',\n",
       "   'publishedAt': '2022-01-20T11:54:38Z',\n",
       "   'content': 'TO BELIEVERS, OPEN, public blockchains provide a second chance at building a digital economy. The fact that the applications built on top of such blockchains all work with each other, and that the in… [+6735 chars]'},\n",
       "  {'source': {'id': None, 'name': 'The Economist'},\n",
       "   'author': 'The Economist',\n",
       "   'title': 'The race to power the DeFi ecosystem is on',\n",
       "   'description': 'Why Ethereum is losing market share',\n",
       "   'url': 'https://www.economist.com/finance-and-economics/the-race-to-power-the-defi-ecosystem-is-on/21807229',\n",
       "   'urlToImage': 'https://www.economist.com/img/b/1280/720/90/sites/default/files/images/2022/01/articles/main/20220122_fnd001.jpg',\n",
       "   'publishedAt': '2022-01-16T00:00:00Z',\n",
       "   'content': 'TO BELIEVERS, OPEN, public blockchains provide a second chance at building a digital economy. The fact that the applications built on top of such blockchains all work with each other, and that the in… [+6577 chars]'},\n",
       "  {'source': {'id': None, 'name': 'CNET'},\n",
       "   'author': 'Steven Musil',\n",
       "   'title': \"Blockchain platform Wormhole says it's retrieved the $324M stolen by hackers - CNET\",\n",
       "   'description': 'Developers behind the popular blockchain bridge says services back up too.',\n",
       "   'url': 'https://www.cnet.com/personal-finance/crypto/blockchain-platform-wormhole-says-its-retrieved-the-324m-stolen-by-hackers/',\n",
       "   'urlToImage': 'https://www.cnet.com/a/img/EmZwZ3SriHUmfsfozP7kAv4d4PY=/1200x630/2022/02/03/c1ba1964-e7c2-44cd-a912-41fdc18e3866/gettyimages-1232534041.jpg',\n",
       "   'publishedAt': '2022-02-03T14:32:00Z',\n",
       "   'content': 'Online thieves made off with \"wrapped ethereum\" worth nearly $324 million.\\r\\nGetty Images\\r\\nHackers stole more than $324 million in cryptocurrency from Wormhole, the developers behind the popular block… [+1664 chars]'},\n",
       "  {'source': {'id': None, 'name': 'CNET'},\n",
       "   'author': 'Steven Musil',\n",
       "   'title': 'Hacker steals over $320M from blockchain platform Wormhole - CNET',\n",
       "   'description': 'Developers behind the popular blockchain bridge offer the hacker a $10 million \"bug bounty\" for info about the exploit and return of the stolen cryptocurrency.',\n",
       "   'url': 'https://www.cnet.com/personal-finance/crypto/hacker-steals-over-320m-from-blockchain-platform-wormhole/',\n",
       "   'urlToImage': 'https://www.cnet.com/a/img/EmZwZ3SriHUmfsfozP7kAv4d4PY=/1200x630/2022/02/03/c1ba1964-e7c2-44cd-a912-41fdc18e3866/gettyimages-1232534041.jpg',\n",
       "   'publishedAt': '2022-02-03T03:15:00Z',\n",
       "   'content': 'Online thieves made off with 120,000 wEth, or wrapped Ethereum, worth nearly $324 million.\\r\\nGetty Images\\r\\nHackers have stolen more than $324 million in cryptocurrency from Wormhole, the developers be… [+1553 chars]'},\n",
       "  {'source': {'id': 'engadget', 'name': 'Engadget'},\n",
       "   'author': 'Mariella Moon',\n",
       "   'title': 'Crypto.com loses $34 million in hack that affected 483 accounts',\n",
       "   'description': \"In an interview with Bloomberg TV, Crypto.com's Chief Executive Kris Marszalek has admitted that 400 customer accounts were compromised by hackers. He said his team detected unauthorized transactions made from the accounts, but that they'd fixed the issue imm…\",\n",
       "   'url': 'https://www.engadget.com/cryptocom-loses-34-million-hack-110519248.html',\n",
       "   'urlToImage': 'https://s.yimg.com/os/creatr-uploaded-images/2021-05/58d89ba0-ac94-11eb-97ff-061055b60fc4',\n",
       "   'publishedAt': '2022-01-20T11:05:19Z',\n",
       "   'content': \"In an interview with Bloomberg TV, Crypto.com's Chief Executive Kris Marszalek has admitted that 400 customer accounts were compromised by hackers. He said his team detected unauthorized transactions… [+2811 chars]\"},\n",
       "  {'source': {'id': 'wired', 'name': 'Wired'},\n",
       "   'author': 'Gian M. Volpicelli',\n",
       "   'title': 'Gibraltar Could Launch the World’s First Crypto Stock Exchange',\n",
       "   'description': '“The Rock” hopes a new stock exchange will attract crypto millionaires who want to avoid hefty taxes.',\n",
       "   'url': 'https://www.wired.com/story/gibraltar-crypto-exchange/',\n",
       "   'urlToImage': 'https://media.wired.com/photos/61f0b4bf03f9ae99229f47d4/191:100/w_1280,c_limit/Business_Gibraltar-1208348908.jpg',\n",
       "   'publishedAt': '2022-01-26T12:00:00Z',\n",
       "   'content': 'British entrepreneur and financier Richard ODell Poulden hopes that his new venture will relieve the plight of an underserved cohort: Bitcoin billionaires who want to buy a house.\\r\\nIn October, Poulde… [+3364 chars]'},\n",
       "  {'source': {'id': 'reuters', 'name': 'Reuters'},\n",
       "   'author': None,\n",
       "   'title': 'Bitcoin surges 8.82% to $40611 - Reuters',\n",
       "   'description': 'Bitcoin surged 8.82% to $40,611.4 at 2202 GMT on Friday, adding $3,291.29 to its previous close.',\n",
       "   'url': 'https://www.reuters.com/technology/bitcoin-surges-882-40611-2022-02-04/',\n",
       "   'urlToImage': 'https://www.reuters.com/resizer/iF8DKAnETeNHBq1q1qRRQFe4oZo=/1200x628/smart/filters:quality(80)/cloudfront-us-east-2.images.arcpublishing.com/reuters/5KHWYF53XBNEFLDIU4B47BZYQE.jpg',\n",
       "   'publishedAt': '2022-02-04T22:27:00Z',\n",
       "   'content': \"Feb 4 (Reuters) - Bitcoin surged 8.82% to $40,611.4 at 2202 GMT on Friday, adding $3,291.29 to its previous close.\\r\\nBitcoin, the world's biggest and best-known cryptocurrency, is up 23.2% from the ye… [+321 chars]\"}]}"
      ]
     },
     "execution_count": 36,
     "metadata": {},
     "output_type": "execute_result"
    }
   ],
   "source": [
    "# Fetch top news articles about Ethereum Cryptocurrency\n",
    "Ethereum_cryptocurrency_headlines = newsapi.get_everything(\n",
    "    q=\"ethereum\", language=\"en\", sort_by=\"relevancy\"\n",
    ")\n",
    "Ethereum_cryptocurrency_headlines"
   ]
  },
  {
   "cell_type": "code",
   "execution_count": 37,
   "id": "48e11eab-b4f0-4dcb-b215-755a79ef9b1e",
   "metadata": {},
   "outputs": [
    {
     "data": {
      "text/plain": [
       "'The Verge'"
      ]
     },
     "execution_count": 37,
     "metadata": {},
     "output_type": "execute_result"
    }
   ],
   "source": [
    "Ethereum_cryptocurrency_headlines['articles'][0]['source']['name']"
   ]
  },
  {
   "cell_type": "code",
   "execution_count": 38,
   "id": "dc7175d1-9d3f-43b6-b0b7-9bb198df6f34",
   "metadata": {},
   "outputs": [
    {
     "data": {
      "text/plain": [
       "'Gizmodo.com'"
      ]
     },
     "execution_count": 38,
     "metadata": {},
     "output_type": "execute_result"
    }
   ],
   "source": [
    "Ethereum_cryptocurrency_headlines['articles'][1]['source']['name']"
   ]
  },
  {
   "cell_type": "code",
   "execution_count": 39,
   "id": "8e69b6d0-b59b-4e5b-823c-eef3ca386712",
   "metadata": {},
   "outputs": [
    {
     "data": {
      "text/plain": [
       "20"
      ]
     },
     "execution_count": 39,
     "metadata": {},
     "output_type": "execute_result"
    }
   ],
   "source": [
    "len(Ethereum_cryptocurrency_headlines['articles'])"
   ]
  },
  {
   "cell_type": "code",
   "execution_count": 40,
   "id": "d7a3642a-bc4e-4c24-97b1-43ffd990702d",
   "metadata": {},
   "outputs": [
    {
     "data": {
      "text/plain": [
       "\"Hackers Launder $15 Million Stolen From Crypto.com Using Ethereum 'Mixer'\""
      ]
     },
     "execution_count": 40,
     "metadata": {},
     "output_type": "execute_result"
    }
   ],
   "source": [
    "Ethereum_cryptocurrency_headlines['articles'][1]['title']"
   ]
  },
  {
   "cell_type": "code",
   "execution_count": 41,
   "id": "94a16e7e-83a4-4436-a6f9-71aa7b77ca61",
   "metadata": {},
   "outputs": [
    {
     "name": "stdout",
     "output_type": "stream",
     "text": [
      "The Verge\n",
      "Crypto.com admits over $30 million stolen by hackers\n",
      "Cryptocurrency exchange Crypto.com has said that $15 million in ethereum and $18 million in bitcoin were stolen by hackers in a security breach\n",
      "Gizmodo.com\n",
      "Hackers Launder $15 Million Stolen From Crypto.com Using Ethereum 'Mixer'\n",
      "Hackers who made off with roughly $15 million in ethereum from Crypto.com are attempting to launder the funds through a so-called ethereum “mixer,” known as Tornado Cash, according to a new report from crypto security company Peck Shield. Mixers run interfere…\n",
      "New York Times\n",
      "Eric Adams Is Taking His First Paycheck in Crypto\n",
      "Mr. Adams, who wants New York City to become the global capital for cryptocurrency, will have his paycheck converted into Bitcoin and Ethereum.\n",
      "Engadget\n",
      "Robinhood opens cryptocurrency wallet to beta testers\n",
      "Back in September\n",
      ", Robinhood announced plans to test a cryptocurrency wallet within its app. At the time, the company said it would open the beta to a small number of people before expanding availability ahead of a full-scale release. If you joined the wait…\n",
      "Wired\n",
      "Playing With Crypto? You’ll Need a Wallet (or Several)\n",
      "Buying and selling NFTs or transferring digital currency is going to require a little leap of faith. Here’s how to get started.\n",
      "Wired\n",
      "Public Blockchains Are the New National Economies of the Metaverse\n",
      "The “fiscal” and “monetary” policy tools of smart contract blockchain platforms may work even better than the economic policy tools of governments.\n",
      "Gizmodo.com\n",
      "Crypto.com Finally Acknowledges $34 Million Stolen by Hackers\n",
      "Trading platform Crypto.com lost about $34 million worth of cryptocurrency in a hack on Monday, according to a new blog post by the company published overnight. The company had previously declined to say much about the hack, which forced users to stop withdra…\n",
      "Business Insider\n",
      "How to mine Ethereum: A step-by-step guide\n",
      "Ethereum mining is a lot more accessible now — here's everything to know about how to mine ether.\n",
      "Slashdot.org\n",
      "LooksRare Has Reportedly Generated $8B in Ethereum NFT Wash Trading\n",
      "LooksRare seemingly came out of nowhere to become the biggest rival yet to leading NFT marketplace OpenSea earlier this month, but there's a big asterisk on the astronomical trading figures coming out of the platform. From a report: It's marred by rampant was…\n",
      "Business Insider\n",
      "Colorado will accept crypto for payment of state taxes by the summer, with drivers' and hunting licenses to follow, Gov. Polis says\n",
      "But the state of Colorado won't hold ethereum or bitcoin, as it isn't permitted to do so, Gov. Jared Polis told CNBC.\n",
      "The Next Web\n",
      "Ethereum inventor wants to replace pregnant women with synthetic wombs\n",
      "Crypto bros never tire of sharing their utopian visions, but their big brain ideas aren’t always embraced by the proles. Vitalik Buterin, the co-founder and inventor of Ethereum, has become the latest victim of this insolence. The 27-year-old had pitched a bo…\n",
      "Entrepreneur\n",
      "Crypto Exchange Shuts Down Withdrawals After Hackers Reportedly Steal $33 Million in Bitcoin, Ethereum\n",
      "Crypto.com issued a statement after multiple users reported suspicious activity on their accounts.\n",
      "Reuters\n",
      "Polygon raises $450 mln from Sequoia Capital India, SoftBank Vision Fund 2, others - Reuters\n",
      "Polygon, a decentralized scaling platform for the ethereum blockchain, announced on Monday it has raised $450 million in its latest funding round led by Sequoia Capital India and including investments from SoftBank's <a href=\"https://www.reuters.com/companies…\n",
      "The Economist\n",
      "The race to dominate the DeFi ecosystem is on\n",
      "Why Ethereum is losing market share\n",
      "The Economist\n",
      "The race to power the DeFi ecosystem is on\n",
      "Why Ethereum is losing market share\n",
      "CNET\n",
      "Blockchain platform Wormhole says it's retrieved the $324M stolen by hackers - CNET\n",
      "Developers behind the popular blockchain bridge says services back up too.\n",
      "CNET\n",
      "Hacker steals over $320M from blockchain platform Wormhole - CNET\n",
      "Developers behind the popular blockchain bridge offer the hacker a $10 million \"bug bounty\" for info about the exploit and return of the stolen cryptocurrency.\n",
      "Engadget\n",
      "Crypto.com loses $34 million in hack that affected 483 accounts\n",
      "In an interview with Bloomberg TV, Crypto.com's Chief Executive Kris Marszalek has admitted that 400 customer accounts were compromised by hackers. He said his team detected unauthorized transactions made from the accounts, but that they'd fixed the issue imm…\n",
      "Wired\n",
      "Gibraltar Could Launch the World’s First Crypto Stock Exchange\n",
      "“The Rock” hopes a new stock exchange will attract crypto millionaires who want to avoid hefty taxes.\n",
      "Reuters\n",
      "Bitcoin surges 8.82% to $40611 - Reuters\n",
      "Bitcoin surged 8.82% to $40,611.4 at 2202 GMT on Friday, adding $3,291.29 to its previous close.\n"
     ]
    }
   ],
   "source": [
    "for article in range (len(Ethereum_cryptocurrency_headlines['articles'])):\n",
    "    print(Ethereum_cryptocurrency_headlines['articles'][article]['source']['name'])\n",
    "    print(Ethereum_cryptocurrency_headlines['articles'][article]['title'])\n",
    "    print(Ethereum_cryptocurrency_headlines['articles'][article]['description'])"
   ]
  },
  {
   "cell_type": "code",
   "execution_count": 53,
   "id": "f02b8b93-26f2-4552-968d-f5635a827fe4",
   "metadata": {},
   "outputs": [],
   "source": [
    "# Create a newsapi client\n",
    "newsapi = NewsApiClient(api_key=News_Api_Key)"
   ]
  },
  {
   "cell_type": "code",
   "execution_count": 55,
   "id": "b8763459-a2ce-48ec-9658-627ca9c675eb",
   "metadata": {},
   "outputs": [
    {
     "data": {
      "text/plain": [
       "{'status': 'ok',\n",
       " 'totalResults': 1082,\n",
       " 'articles': [{'source': {'id': None, 'name': 'The Guardian'},\n",
       "   'author': 'Dan Milmo Global technology editor',\n",
       "   'title': 'Crypto exchange Binance makes $200m investment in Forbes',\n",
       "   'description': 'Deal comes less than two years after Binance sued the business publisher for defamationBinance, the cryptocurrency exchange, is making a $200m (£147m) investment in Forbes less than two years after it sued the business publisher for defamation.A Binance spoke…',\n",
       "   'url': 'https://amp.theguardian.com/technology/2022/feb/10/crypto-exchange-binance-makes-200m-investment-in-forbes',\n",
       "   'urlToImage': 'https://i.guim.co.uk/img/media/129009e9cf42d2ef323fef8d2c7be67ed778ddde/0_371_3271_1962/master/3271.jpg?width=1200&height=630&quality=85&auto=format&fit=crop&overlay-align=bottom%2Cleft&overlay-width=100p&overlay-base64=L2ltZy9zdGF0aWMvb3ZlcmxheXMvdGctZGVmYXVsdC5wbmc&enable=upscale&s=000e3e1c8d6d6f5e6a506d80eec9d5e3',\n",
       "   'publishedAt': '2022-02-10T18:35:00Z',\n",
       "   'content': 'Binance, the cryptocurrency exchange, is making a $200m (£147m) investment in Forbes less than two years after it sued the business publisher for defamation.\\r\\nA Binance spokesperson said Forbess edit… [+2499 chars]'},\n",
       "  {'source': {'id': 'reuters', 'name': 'Reuters'},\n",
       "   'author': 'Reuters Staff',\n",
       "   'title': 'Binance crypto exchange to take $200 mln stake in Forbes magazine - CNBC - Reuters',\n",
       "   'description': 'Major cryptocurrency exchange Binance is taking a $200 million stake in Forbes magazine, CNBC reported on Thursday https://www.cnbc.com/2022/02/10/forbes-spac-binance-led-by-the-worlds-richest-crypto-billionaire-is-taking-a-200-million-stake-in-forbes-.html, …',\n",
       "   'url': 'https://www.reuters.com/article/fintech-crypto-idUSL4N2UL3HH',\n",
       "   'urlToImage': 'https://s1.reutersmedia.net/resources_v2/images/rcom-default.png?w=800',\n",
       "   'publishedAt': '2022-02-10T13:30:00Z',\n",
       "   'content': 'By Reuters Staff\\r\\nLONDON, Feb 10 (Reuters) - Major cryptocurrency exchange Binance is taking a $200 million stake in Forbes magazine, CNBC reported on Thursday here, citing people familiar with the d… [+546 chars]'},\n",
       "  {'source': {'id': 'reuters', 'name': 'Reuters'},\n",
       "   'author': None,\n",
       "   'title': \"Crypto exchange Binance shared information with German police on Islamist attacker's suspected accomplices - Reuters\",\n",
       "   'description': 'Cryptocurrency exchange Binance has shared information with German police about two customers suspected of assisting an Islamist gunman who killed four people in Vienna in 2020, legal representatives for the company said.',\n",
       "   'url': 'https://www.reuters.com/world/europe/crypto-exchange-binance-shared-information-with-german-police-islamist-attackers-2022-02-03/',\n",
       "   'urlToImage': 'https://www.reuters.com/resizer/Vy3OPpFOIGA6zpWKlo4HR7HmJDY=/1200x628/smart/filters:quality(80)/cloudfront-us-east-2.images.arcpublishing.com/reuters/2FHQFCQIZJK6LEZTN6S6YS34KY.jpg',\n",
       "   'publishedAt': '2022-02-03T13:32:00Z',\n",
       "   'content': 'LONDON, Feb 3 (Reuters) - Cryptocurrency exchange Binance has shared information with German police about two customers suspected of assisting an Islamist gunman who killed four people in Vienna in 2… [+3337 chars]'},\n",
       "  {'source': {'id': 'reuters', 'name': 'Reuters'},\n",
       "   'author': None,\n",
       "   'title': 'Gulf Energy, Binance announce Thailand crypto partnership - Reuters',\n",
       "   'description': 'Binance, one of the world\\'s biggest cyrptocurrency exchange by trading volume, will set up a crypto exchange with Thailand\\'s Gulf Energy Development <a href=\"https://www.reuters.com/companies/GULF.BK\" target=\"_blank\">(GULF.BK)</a>, both firms said on Monday.',\n",
       "   'url': 'https://www.reuters.com/technology/gulf-energy-binance-announce-thailand-crypto-partnership-2022-01-17/',\n",
       "   'urlToImage': 'https://www.reuters.com/resizer/pgMlilGigbLoQYIjWBD9bgcEubw=/1200x628/smart/filters:quality(80)/cloudfront-us-east-2.images.arcpublishing.com/reuters/BHMX6JCRANJUJFQHKFMXHMFC2I.jpg',\n",
       "   'publishedAt': '2022-01-17T14:01:00Z',\n",
       "   'content': \"BANGKOK, Jan 17 (Reuters) - Binance, one of the world's biggest cyrptocurrency exchange by trading volume, will set up a crypto exchange with Thailand's Gulf Energy Development (GULF.BK), both firms … [+1140 chars]\"},\n",
       "  {'source': {'id': 'reuters', 'name': 'Reuters'},\n",
       "   'author': None,\n",
       "   'title': 'Crypto giant Binance restricts 281 Nigerian accounts - Reuters',\n",
       "   'description': \"Binance, the world's largest cryptocurrency exchange, has restricted the personal accounts of 281 Nigerian users, citing a need to comply with international money laundering laws, its CEO said.\",\n",
       "   'url': 'https://www.reuters.com/technology/crypto-giant-binance-restricts-281-nigerian-accounts-2022-01-30/',\n",
       "   'urlToImage': 'https://www.reuters.com/resizer/rj5E7tfivvR4poYVMuZNsUl6eIc=/1200x628/smart/filters:quality(80)/cloudfront-us-east-2.images.arcpublishing.com/reuters/Y3NLA5NFT5LP3HI5TABTBBLK3Y.jpg',\n",
       "   'publishedAt': '2022-01-30T18:57:00Z',\n",
       "   'content': \"Binance app is seen on a smartphone in this illustration taken, July 13, 2021. REUTERS/Dado Ruvic/IllustrationLAGOS, Jan 30 (Reuters) - Binance, the world's largest cryptocurrency exchange, has restr… [+1024 chars]\"},\n",
       "  {'source': {'id': 'reuters', 'name': 'Reuters'},\n",
       "   'author': None,\n",
       "   'title': 'Crypto giant Binance hopes Russia will help regional growth - Reuters',\n",
       "   'description': \"Binance, the world's largest cryptocurrency exchange, wants to expand in Russia and neighbouring states where it sees prospects for new regulations that will boost its business, an executive said.\",\n",
       "   'url': 'https://www.reuters.com/technology/crypto-giant-binance-hopes-russia-will-help-regional-growth-2022-01-27/',\n",
       "   'urlToImage': 'https://www.reuters.com/resizer/Vy3OPpFOIGA6zpWKlo4HR7HmJDY=/1200x628/smart/filters:quality(80)/cloudfront-us-east-2.images.arcpublishing.com/reuters/2FHQFCQIZJK6LEZTN6S6YS34KY.jpg',\n",
       "   'publishedAt': '2022-01-27T15:04:00Z',\n",
       "   'content': \"MOSCOW, Jan 27 (Reuters) - Binance, the world's largest cryptocurrency exchange, wants to expand in Russia and neighbouring states where it sees prospects for new regulations that will boost its busi… [+3041 chars]\"},\n",
       "  {'source': {'id': 'reuters', 'name': 'Reuters'},\n",
       "   'author': None,\n",
       "   'title': 'Binance tie-up with payments network a concern, says UK watchdog - Reuters',\n",
       "   'description': \"Britain's financial watchdog said on Wednesday it had too few powers to stop Binance from accessing a key UK payments network despite its concerns about the cryptocurrency exchange.\",\n",
       "   'url': 'https://www.reuters.com/technology/binance-tie-up-with-payments-network-concern-says-uk-watchdog-2022-02-16/',\n",
       "   'urlToImage': 'https://www.reuters.com/resizer/0SGbag5pamGRNyHJWtBwiTnZZDk=/1200x628/smart/filters:quality(80)/cloudfront-us-east-2.images.arcpublishing.com/reuters/YRNSRGHLENM7FI7OVIGNPBW6ZI.jpg',\n",
       "   'publishedAt': '2022-02-16T13:26:00Z',\n",
       "   'content': \"LONDON, Feb 16 (Reuters) - Britain's financial watchdog said on Wednesday it had too few powers to stop Binance from accessing a key UK payments network despite its concerns about the cryptocurrency … [+2193 chars]\"},\n",
       "  {'source': {'id': None, 'name': 'The Guardian'},\n",
       "   'author': 'Jenn Selby',\n",
       "   'title': 'Binance access to UK payments network worries City watchdog',\n",
       "   'description': 'FCA says it has limited powers to object to Paysafe deal despite concerns about cryptocurrency platformThe City watchdog has raised concerns about a deal to give the cryptocurrency platform Binance access to the UK payments network just months after it ordere…',\n",
       "   'url': 'https://amp.theguardian.com/technology/2022/feb/16/binance-access-to-uk-payments-network-worries-city-watchdog-fca-playsafe-cryptocurrency',\n",
       "   'urlToImage': 'https://i.guim.co.uk/img/media/20c7b6fac887fbc1dda0b0ee9c647065cf0d1a58/0_346_5184_3110/master/5184.jpg?width=1200&height=630&quality=85&auto=format&fit=crop&overlay-align=bottom%2Cleft&overlay-width=100p&overlay-base64=L2ltZy9zdGF0aWMvb3ZlcmxheXMvdGctZGVmYXVsdC5wbmc&enable=upscale&s=22bec3509c8751065c5aee9344100a69',\n",
       "   'publishedAt': '2022-02-16T15:24:03Z',\n",
       "   'content': 'The City watchdog has raised concerns about a deal to give the cryptocurrency platform Binance access to the UK payments network just months after it ordered the company to stop all regulated activit… [+2926 chars]'},\n",
       "  {'source': {'id': 'the-verge', 'name': 'The Verge'},\n",
       "   'author': 'Corin Faife',\n",
       "   'title': 'DeepDotWeb operator sentenced to eight years for money laundering',\n",
       "   'description': 'The operator of DeepDotWeb, a site that indexed dark net marketplaces accessible through Tor browser, was sentenced to eight years after pleading guilty to money laundering using Bitcoin.',\n",
       "   'url': 'https://www.theverge.com/2022/1/27/22904803/deepdotweb-operator-sentenced-money-laundering-bitcoin-darknet-fbi',\n",
       "   'urlToImage': 'https://cdn.vox-cdn.com/thumbor/mde_l3lUC4muDPEFG7LYrUz0O3g=/0x146:2040x1214/fit-in/1200x630/cdn.vox-cdn.com/uploads/chorus_asset/file/8921023/acastro_bitcoin_2.jpg',\n",
       "   'publishedAt': '2022-01-27T18:16:57Z',\n",
       "   'content': 'Israeli national Tal Prihar pled guilty to routing money from kickbacks through Bitcoin and shell companies \\r\\nIllustration by Alex Castro / The Verge\\r\\nIn the culmination of a two-year legal process, … [+1448 chars]'},\n",
       "  {'source': {'id': 'reuters', 'name': 'Reuters'},\n",
       "   'author': None,\n",
       "   'title': 'Binance crypto exchange to take $200 mln stake in Forbes magazine - CNBC - Reuters',\n",
       "   'description': 'Major cryptocurrency exchange Binance will make a $200 million investment in Forbes, the media company said on Thursday, with the platform taking a stake through a publicly traded special purpose acquisition company (SPAC).',\n",
       "   'url': 'https://www.reuters.com/business/finance/binance-crypto-exchange-take-200-mln-stake-forbes-magazine-cnbc-2022-02-10/',\n",
       "   'urlToImage': 'https://www.reuters.com/resizer/zXeClYscVvbqMG2AwQcJAowALhI=/1200x628/smart/filters:quality(80)/cloudfront-us-east-2.images.arcpublishing.com/reuters/I5I7YR6TCNPCPB72A6EZ37VCAY.jpg',\n",
       "   'publishedAt': '2022-02-10T14:05:00Z',\n",
       "   'content': 'LONDON, Feb 10 (Reuters) - Major cryptocurrency exchange Binance will make a $200 million investment in Forbes, the media company said on Thursday, with the platform taking a stake through a publicly… [+1107 chars]'},\n",
       "  {'source': {'id': 'reuters', 'name': 'Reuters'},\n",
       "   'author': None,\n",
       "   'title': \"EXCLUSIVE Islamist attacker's suspected accomplices used crypto exchange Binance, German police say - Reuters\",\n",
       "   'description': 'Two men suspected by Germany of assisting an Islamist gunman, who killed four people in Vienna in 2020, used the major cryptocurrency exchange Binance, German federal police said in a confidential letter seeking information from the company.',\n",
       "   'url': 'https://www.reuters.com/world/europe/exclusive-islamist-attackers-suspected-accomplices-used-crypto-exchange-binance-2022-01-21/',\n",
       "   'urlToImage': 'https://www.reuters.com/resizer/rj5E7tfivvR4poYVMuZNsUl6eIc=/1200x628/smart/filters:quality(80)/cloudfront-us-east-2.images.arcpublishing.com/reuters/Y3NLA5NFT5LP3HI5TABTBBLK3Y.jpg',\n",
       "   'publishedAt': '2022-01-21T13:13:00Z',\n",
       "   'content': 'LONDON, Jan 21 (Reuters) - Two men suspected by Germany of assisting an Islamist gunman, who killed four people in Vienna in 2020, used the major cryptocurrency exchange Binance, German federal polic… [+4081 chars]'},\n",
       "  {'source': {'id': None, 'name': 'Slashdot.org'},\n",
       "   'author': 'BeauHD',\n",
       "   'title': 'Binance Is Taking a $200 Million Stake In Forbes',\n",
       "   'description': \"An anonymous reader quotes a report from CNBC: Binance, the world's biggest cryptocurrency exchange, is making a $200 million strategic investment in Forbes, the 104-year-old magazine and digital publisher, CNBC has learned. The funds will help Forbes execute…\",\n",
       "   'url': 'https://news.slashdot.org/story/22/02/12/0130233/binance-is-taking-a-200-million-stake-in-forbes',\n",
       "   'urlToImage': 'https://a.fsdn.com/sd/topics/bitcoin_64.png',\n",
       "   'publishedAt': '2022-02-12T13:00:00Z',\n",
       "   'content': \"Binance, the world's biggest cryptocurrency exchange, is making a $200 million strategic investment in Forbes, the 104-year-old magazine and digital publisher, CNBC has learned. The funds will help F… [+1612 chars]\"},\n",
       "  {'source': {'id': 'reuters', 'name': 'Reuters'},\n",
       "   'author': None,\n",
       "   'title': \"Thailand's Gulf Energy to seal crypto JV with Binance in Q2 - Reuters\",\n",
       "   'description': 'Thai power producer Gulf Energy Development Pcl <a href=\"https://www.reuters.com/companies/GULF.BK\" target=\"_blank\">(GULF.BK)</a> expects to finalise a joint venture (JV) with the world\\'s biggest cryptocurrency exchange, Binance, in the second quarter this ye…',\n",
       "   'url': 'https://www.reuters.com/technology/thailands-gulf-energy-seal-crypto-jv-with-binance-q2-2022-02-04/',\n",
       "   'urlToImage': 'https://www.reuters.com/resizer/pgMlilGigbLoQYIjWBD9bgcEubw=/1200x628/smart/filters:quality(80)/cloudfront-us-east-2.images.arcpublishing.com/reuters/BHMX6JCRANJUJFQHKFMXHMFC2I.jpg',\n",
       "   'publishedAt': '2022-02-04T03:33:00Z',\n",
       "   'content': \"BANGKOK, Feb 4 (Reuters) - Thai power producer Gulf Energy Development Pcl (GULF.BK) expects to finalise a joint venture (JV) with the world's biggest cryptocurrency exchange, Binance, in the second … [+2286 chars]\"},\n",
       "  {'source': {'id': None, 'name': 'Slashdot.org'},\n",
       "   'author': 'BeauHD',\n",
       "   'title': 'DeFi Platform Qubit Finance Begs Hacker To Return $80 Million In Stolen Funds',\n",
       "   'description': 'Qubit Finance took to Twitter last night to beg hackers to return more than $80 million in stolen cryptocurrency this week. ZDNet reports: On Thursday, the DeFi platform said their protocol was exploited by a hacker who eventually stole 206,809 binance coins …',\n",
       "   'url': 'https://yro.slashdot.org/story/22/01/28/1822238/defi-platform-qubit-finance-begs-hacker-to-return-80-million-in-stolen-funds',\n",
       "   'urlToImage': 'https://a.fsdn.com/sd/topics/bitcoin_64.png',\n",
       "   'publishedAt': '2022-01-28T23:23:00Z',\n",
       "   'content': \"On Thursday, the DeFi platform said their protocol was exploited by a hacker who eventually stole 206,809 binance coins from Qubit's QBridge protocol, worth more than $80 million according to PeckShi… [+1407 chars]\"},\n",
       "  {'source': {'id': 'reuters', 'name': 'Reuters'},\n",
       "   'author': 'Special Reports',\n",
       "   'title': 'Binance kept weak money-laundering checks even as it promised tougher compliance',\n",
       "   'description': 'In public, Binance said it welcomed government oversight. At the same time, the firm was withholding information from regulators, maintaining weak checks on customers and acting against its own compliance department’s recommendations, a Reuters investigation …',\n",
       "   'url': 'https://www.reuters.com/investigates/special-report/finance-crypto-currency-binance/',\n",
       "   'urlToImage': 'https://www.reuters.com/investigates/special-report/assets/finance-crypto-currency-binance/mastheads/share_2018-10-04T160030Z_421009281_RC1114386580_RTRMADP_3_MALTA-CRYPTOCURRENCY.jpg?v=223113210122',\n",
       "   'publishedAt': '2022-01-21T15:59:14Z',\n",
       "   'content': 'ATTARD, Malta In the courtyard of a secluded limestone palace, Maltas political elite welcomed a guest: Changpeng Zhao, chief executive of Binance, the worlds largest cryptocurrency exchange.\\r\\nIt was… [+35042 chars]'},\n",
       "  {'source': {'id': 'reuters', 'name': 'Reuters'},\n",
       "   'author': None,\n",
       "   'title': 'Spain moves to rein in crypto-asset advertising - Reuters',\n",
       "   'description': 'Spain moved on Monday to regulate rampant advertising of crypto assets, including by social media influencers, tasking the stock market supervisor with authorising mass campaigns and making sure investors are aware of risks.',\n",
       "   'url': 'https://www.reuters.com/business/autos-transportation/spain-moves-rein-crypto-asset-advertising-2022-01-17/',\n",
       "   'urlToImage': 'https://www.reuters.com/resizer/uyqea5WkmIn5iPMbofKLBy4Ug5I=/1200x628/smart/filters:quality(80)/cloudfront-us-east-2.images.arcpublishing.com/reuters/G43X5XH3QJP7HI3NMHBPQ2BXUM.jpg',\n",
       "   'publishedAt': '2022-01-17T13:52:00Z',\n",
       "   'content': 'MADRID, Jan 17 (Reuters) - Spain moved on Monday to regulate rampant advertising of crypto assets, including by social media influencers, tasking the stock market supervisor with authorising mass cam… [+1834 chars]'},\n",
       "  {'source': {'id': 'reuters', 'name': 'Reuters'},\n",
       "   'author': None,\n",
       "   'title': 'Crypto exchange FTX US valued at $8 bln as first fundraise draws SoftBank, Temasek - Reuters',\n",
       "   'description': 'Cryptocurrency exchange FTX US said on Wednesday it had notched a valuation of $8 billion after raising $400 million in its first funding round from investors including Japan\\'s SoftBank Group Corp <a href=\"https://www.reuters.com/companies/9984.T\" target=\"_bl…',\n",
       "   'url': 'https://www.reuters.com/markets/funds/crypto-exchange-ftx-us-valued-8-bln-first-fundraise-draws-softbank-temasek-2022-01-26/',\n",
       "   'urlToImage': 'https://www.reuters.com/resizer/iF8DKAnETeNHBq1q1qRRQFe4oZo=/1200x628/smart/filters:quality(80)/cloudfront-us-east-2.images.arcpublishing.com/reuters/5KHWYF53XBNEFLDIU4B47BZYQE.jpg',\n",
       "   'publishedAt': '2022-01-26T08:00:00Z',\n",
       "   'content': \"Jan 26 (Reuters) - Cryptocurrency exchange FTX US said on Wednesday it had notched a valuation of $8 billion after raising $400 million in its first funding round from investors including Japan's Sof… [+1810 chars]\"},\n",
       "  {'source': {'id': 'reuters', 'name': 'Reuters'},\n",
       "   'author': None,\n",
       "   'title': \"Russian authorities draw up 'road map' to regulate cryptocurrencies -document - Reuters\",\n",
       "   'description': \"Russian authorities have drawn up a 'road map' that envisages restrictions on cryptocurrencies but not a complete ban as advocated by the central bank, a document seen by Reuters showed on Friday.\",\n",
       "   'url': 'https://www.reuters.com/technology/russian-authorities-draw-up-road-map-regulate-cryptocurrencies-document-2022-01-28/',\n",
       "   'urlToImage': 'https://www.reuters.com/resizer/JkROm1tnMXISYxamF3MhREgL6h0=/1200x628/smart/filters:quality(80)/cloudfront-us-east-2.images.arcpublishing.com/reuters/EGQAHW2HLRKUFIEBTHNRZ6EJLI.jpg',\n",
       "   'publishedAt': '2022-01-28T08:13:00Z',\n",
       "   'content': \"MOSCOW, Jan 28 (Reuters) - Russian authorities have drawn up a 'road map' that envisages restrictions on cryptocurrencies but not a complete ban as advocated by the central bank, a document seen by R… [+1824 chars]\"},\n",
       "  {'source': {'id': 'reuters', 'name': 'Reuters'},\n",
       "   'author': None,\n",
       "   'title': 'Crypto exchange FTX US valued at $8 bln as first fundraise draws SoftBank, Temasek - Reuters',\n",
       "   'description': 'Cryptocurrency exchange FTX US said on Wednesday it was valued at $8 billion after raising $400 million in its first funding round from investors including Japan\\'s SoftBank Group Corp <a href=\"https://www.reuters.com/companies/9984.T\" target=\"_blank\">(9984.T)…',\n",
       "   'url': 'https://www.reuters.com/business/future-of-money/crypto-exchange-ftx-us-valued-8-bln-first-fundraise-draws-softbank-temasek-2022-01-26/',\n",
       "   'urlToImage': 'https://www.reuters.com/resizer/iF8DKAnETeNHBq1q1qRRQFe4oZo=/1200x628/smart/filters:quality(80)/cloudfront-us-east-2.images.arcpublishing.com/reuters/5KHWYF53XBNEFLDIU4B47BZYQE.jpg',\n",
       "   'publishedAt': '2022-01-26T20:33:00Z',\n",
       "   'content': \"Jan 26 (Reuters) - Cryptocurrency exchange FTX US said on Wednesday it was valued at $8 billion after raising $400 million in its first funding round from investors including Japan's SoftBank Group C… [+1983 chars]\"},\n",
       "  {'source': {'id': 'business-insider', 'name': 'Business Insider'},\n",
       "   'author': 'ilee@insider.com (Isabelle Lee)',\n",
       "   'title': 'The largest bank in Southeast Asia is launching a crypto trading service for retail customers this year',\n",
       "   'description': \"The move follows the bank's launch of a digital asset trading desk for institutional clients in late 2021.\",\n",
       "   'url': 'https://markets.businessinsider.com/news/currencies/dbs-crypto-trading-service-retail-customers-southeast-asia-largest-bank-2022-2',\n",
       "   'urlToImage': 'https://i.insider.com/620a604a3b86990018b32318?width=1200&format=jpeg',\n",
       "   'publishedAt': '2022-02-14T16:27:37Z',\n",
       "   'content': 'DBS Bank, the largest bank in Southeast Asia by assets, is planning to launch cryptocurrency trading services for retail clients this year, expanding into the space following its launch of an institu… [+1942 chars]'}]}"
      ]
     },
     "execution_count": 55,
     "metadata": {},
     "output_type": "execute_result"
    }
   ],
   "source": [
    "# Fetch top news articles about Binance Cryptocurrency\n",
    "Binance_cryptocurrency_headlines = newsapi.get_everything(\n",
    "    q=\"binance\", language=\"en\", sort_by=\"relevancy\"\n",
    ")\n",
    "Binance_cryptocurrency_headlines"
   ]
  },
  {
   "cell_type": "code",
   "execution_count": 56,
   "id": "3c81fe94-0ac0-4b3a-bf85-9803506e8630",
   "metadata": {},
   "outputs": [
    {
     "data": {
      "text/plain": [
       "'The Guardian'"
      ]
     },
     "execution_count": 56,
     "metadata": {},
     "output_type": "execute_result"
    }
   ],
   "source": [
    "Binance_cryptocurrency_headlines['articles'][0]['source']['name']"
   ]
  },
  {
   "cell_type": "code",
   "execution_count": 61,
   "id": "43e5cdb8-0325-4e8c-a91c-bfbaabb464cf",
   "metadata": {},
   "outputs": [
    {
     "data": {
      "text/plain": [
       "'Reuters'"
      ]
     },
     "execution_count": 61,
     "metadata": {},
     "output_type": "execute_result"
    }
   ],
   "source": [
    "Binance_cryptocurrency_headlines['articles'][1]['source']['name']"
   ]
  },
  {
   "cell_type": "code",
   "execution_count": 58,
   "id": "83b167f2-6a25-4c6c-a157-676bcdc35ec4",
   "metadata": {},
   "outputs": [
    {
     "data": {
      "text/plain": [
       "20"
      ]
     },
     "execution_count": 58,
     "metadata": {},
     "output_type": "execute_result"
    }
   ],
   "source": [
    "len(Binance_cryptocurrency_headlines['articles'])"
   ]
  },
  {
   "cell_type": "code",
   "execution_count": 59,
   "id": "701e4014-bc5c-4fa5-9953-ab488374230e",
   "metadata": {},
   "outputs": [
    {
     "data": {
      "text/plain": [
       "'Binance crypto exchange to take $200 mln stake in Forbes magazine - CNBC - Reuters'"
      ]
     },
     "execution_count": 59,
     "metadata": {},
     "output_type": "execute_result"
    }
   ],
   "source": [
    "Binance_cryptocurrency_headlines['articles'][1]['title']"
   ]
  },
  {
   "cell_type": "code",
   "execution_count": 60,
   "id": "30f7b204-717e-43a4-8722-79323cbc2247",
   "metadata": {},
   "outputs": [
    {
     "name": "stdout",
     "output_type": "stream",
     "text": [
      "The Guardian\n",
      "Crypto exchange Binance makes $200m investment in Forbes\n",
      "Deal comes less than two years after Binance sued the business publisher for defamationBinance, the cryptocurrency exchange, is making a $200m (£147m) investment in Forbes less than two years after it sued the business publisher for defamation.A Binance spoke…\n",
      "Reuters\n",
      "Binance crypto exchange to take $200 mln stake in Forbes magazine - CNBC - Reuters\n",
      "Major cryptocurrency exchange Binance is taking a $200 million stake in Forbes magazine, CNBC reported on Thursday https://www.cnbc.com/2022/02/10/forbes-spac-binance-led-by-the-worlds-richest-crypto-billionaire-is-taking-a-200-million-stake-in-forbes-.html, …\n",
      "Reuters\n",
      "Crypto exchange Binance shared information with German police on Islamist attacker's suspected accomplices - Reuters\n",
      "Cryptocurrency exchange Binance has shared information with German police about two customers suspected of assisting an Islamist gunman who killed four people in Vienna in 2020, legal representatives for the company said.\n",
      "Reuters\n",
      "Gulf Energy, Binance announce Thailand crypto partnership - Reuters\n",
      "Binance, one of the world's biggest cyrptocurrency exchange by trading volume, will set up a crypto exchange with Thailand's Gulf Energy Development <a href=\"https://www.reuters.com/companies/GULF.BK\" target=\"_blank\">(GULF.BK)</a>, both firms said on Monday.\n",
      "Reuters\n",
      "Crypto giant Binance restricts 281 Nigerian accounts - Reuters\n",
      "Binance, the world's largest cryptocurrency exchange, has restricted the personal accounts of 281 Nigerian users, citing a need to comply with international money laundering laws, its CEO said.\n",
      "Reuters\n",
      "Crypto giant Binance hopes Russia will help regional growth - Reuters\n",
      "Binance, the world's largest cryptocurrency exchange, wants to expand in Russia and neighbouring states where it sees prospects for new regulations that will boost its business, an executive said.\n",
      "Reuters\n",
      "Binance tie-up with payments network a concern, says UK watchdog - Reuters\n",
      "Britain's financial watchdog said on Wednesday it had too few powers to stop Binance from accessing a key UK payments network despite its concerns about the cryptocurrency exchange.\n",
      "The Guardian\n",
      "Binance access to UK payments network worries City watchdog\n",
      "FCA says it has limited powers to object to Paysafe deal despite concerns about cryptocurrency platformThe City watchdog has raised concerns about a deal to give the cryptocurrency platform Binance access to the UK payments network just months after it ordere…\n",
      "The Verge\n",
      "DeepDotWeb operator sentenced to eight years for money laundering\n",
      "The operator of DeepDotWeb, a site that indexed dark net marketplaces accessible through Tor browser, was sentenced to eight years after pleading guilty to money laundering using Bitcoin.\n",
      "Reuters\n",
      "Binance crypto exchange to take $200 mln stake in Forbes magazine - CNBC - Reuters\n",
      "Major cryptocurrency exchange Binance will make a $200 million investment in Forbes, the media company said on Thursday, with the platform taking a stake through a publicly traded special purpose acquisition company (SPAC).\n",
      "Reuters\n",
      "EXCLUSIVE Islamist attacker's suspected accomplices used crypto exchange Binance, German police say - Reuters\n",
      "Two men suspected by Germany of assisting an Islamist gunman, who killed four people in Vienna in 2020, used the major cryptocurrency exchange Binance, German federal police said in a confidential letter seeking information from the company.\n",
      "Slashdot.org\n",
      "Binance Is Taking a $200 Million Stake In Forbes\n",
      "An anonymous reader quotes a report from CNBC: Binance, the world's biggest cryptocurrency exchange, is making a $200 million strategic investment in Forbes, the 104-year-old magazine and digital publisher, CNBC has learned. The funds will help Forbes execute…\n",
      "Reuters\n",
      "Thailand's Gulf Energy to seal crypto JV with Binance in Q2 - Reuters\n",
      "Thai power producer Gulf Energy Development Pcl <a href=\"https://www.reuters.com/companies/GULF.BK\" target=\"_blank\">(GULF.BK)</a> expects to finalise a joint venture (JV) with the world's biggest cryptocurrency exchange, Binance, in the second quarter this ye…\n",
      "Slashdot.org\n",
      "DeFi Platform Qubit Finance Begs Hacker To Return $80 Million In Stolen Funds\n",
      "Qubit Finance took to Twitter last night to beg hackers to return more than $80 million in stolen cryptocurrency this week. ZDNet reports: On Thursday, the DeFi platform said their protocol was exploited by a hacker who eventually stole 206,809 binance coins …\n",
      "Reuters\n",
      "Binance kept weak money-laundering checks even as it promised tougher compliance\n",
      "In public, Binance said it welcomed government oversight. At the same time, the firm was withholding information from regulators, maintaining weak checks on customers and acting against its own compliance department’s recommendations, a Reuters investigation …\n",
      "Reuters\n",
      "Spain moves to rein in crypto-asset advertising - Reuters\n",
      "Spain moved on Monday to regulate rampant advertising of crypto assets, including by social media influencers, tasking the stock market supervisor with authorising mass campaigns and making sure investors are aware of risks.\n",
      "Reuters\n",
      "Crypto exchange FTX US valued at $8 bln as first fundraise draws SoftBank, Temasek - Reuters\n",
      "Cryptocurrency exchange FTX US said on Wednesday it had notched a valuation of $8 billion after raising $400 million in its first funding round from investors including Japan's SoftBank Group Corp <a href=\"https://www.reuters.com/companies/9984.T\" target=\"_bl…\n",
      "Reuters\n",
      "Russian authorities draw up 'road map' to regulate cryptocurrencies -document - Reuters\n",
      "Russian authorities have drawn up a 'road map' that envisages restrictions on cryptocurrencies but not a complete ban as advocated by the central bank, a document seen by Reuters showed on Friday.\n",
      "Reuters\n",
      "Crypto exchange FTX US valued at $8 bln as first fundraise draws SoftBank, Temasek - Reuters\n",
      "Cryptocurrency exchange FTX US said on Wednesday it was valued at $8 billion after raising $400 million in its first funding round from investors including Japan's SoftBank Group Corp <a href=\"https://www.reuters.com/companies/9984.T\" target=\"_blank\">(9984.T)…\n",
      "Business Insider\n",
      "The largest bank in Southeast Asia is launching a crypto trading service for retail customers this year\n",
      "The move follows the bank's launch of a digital asset trading desk for institutional clients in late 2021.\n"
     ]
    }
   ],
   "source": [
    "for article in range (len(Binance_cryptocurrency_headlines['articles'])):\n",
    "    print(Binance_cryptocurrency_headlines['articles'][article]['source']['name'])\n",
    "    print(Binance_cryptocurrency_headlines['articles'][article]['title'])\n",
    "    print(Binance_cryptocurrency_headlines['articles'][article]['description'])"
   ]
  },
  {
   "cell_type": "code",
   "execution_count": 63,
   "id": "864d4a16-de8f-4d8c-aea1-cbfb5e3bdb85",
   "metadata": {},
   "outputs": [],
   "source": [
    "# Create a newsapi client\n",
    "newsapi = NewsApiClient(api_key=News_Api_Key)"
   ]
  },
  {
   "cell_type": "code",
   "execution_count": 199,
   "id": "92c3b0fe-b313-4c0c-8f44-1995775800ec",
   "metadata": {},
   "outputs": [
    {
     "data": {
      "text/plain": [
       "{'status': 'ok',\n",
       " 'totalResults': 1075,\n",
       " 'articles': [{'source': {'id': 'wired', 'name': 'Wired'},\n",
       "   'author': 'Omar L. Gallaga',\n",
       "   'title': 'Playing With Crypto? You’ll Need a Wallet (or Several)',\n",
       "   'description': 'Buying and selling NFTs or transferring digital currency is going to require a little leap of faith. Here’s how to get started.',\n",
       "   'url': 'https://www.wired.com/story/how-to-choose-set-up-crypto-wallet/',\n",
       "   'urlToImage': 'https://media.wired.com/photos/620415899266d5d11c07b346/191:100/w_1280,c_limit/Gear-Coinbase-App-Screens.jpg',\n",
       "   'publishedAt': '2022-02-10T14:00:00Z',\n",
       "   'content': \"If people who buy cryptocurrencies intended only to hold on to them as speculative investments, there'd be no real need for crypto wallets. Exchanges and online brokerages that convert dollars to, sa… [+3031 chars]\"},\n",
       "  {'source': {'id': None, 'name': 'New York Times'},\n",
       "   'author': 'Eric Lipton',\n",
       "   'title': 'Melania Trump’s Auction of Hat Hit by Plunge in Cryptocurrency',\n",
       "   'description': 'The former first lady is selling a hat she wore for a visit by the French president amid volatility in the value of the digital currency being used for the auction.',\n",
       "   'url': 'https://www.nytimes.com/2022/01/25/us/politics/melania-trump-auction-hat-cryptocurrency.html',\n",
       "   'urlToImage': 'https://static01.nyt.com/images/2022/01/25/us/politics/25dc-melania-1/25dc-melania-1-facebookJumbo.jpg',\n",
       "   'publishedAt': '2022-01-26T01:13:52Z',\n",
       "   'content': 'But in the weeks since, SOL, along with most other cryptocurrencies, has suffered major declines in value. On the evening before the closing of the auction on Tuesday, each SOL was worth about $95.\\r\\n… [+876 chars]'},\n",
       "  {'source': {'id': None, 'name': 'The Guardian'},\n",
       "   'author': 'Maya Yang',\n",
       "   'title': 'Melania Trump’s auction of NFT, hat and painting fall short of $250,000 opening bid',\n",
       "   'description': 'Steep dive in crypto market resulted in final bid of about $170,000 – about $80,000 short of the starting bid thresholdWhat do Melania Trump’s wide-brimmed white hat, a painting of her wearing the hat and an NFT of an animated version of the hat have in commo…',\n",
       "   'url': 'https://amp.theguardian.com/us-news/2022/jan/27/melania-trump-auction-nft-hat-painting',\n",
       "   'urlToImage': 'https://i.guim.co.uk/img/media/fe9557c4f4c560e692a317d08652b115111fbe85/0_0_3000_1800/master/3000.jpg?width=1200&height=630&quality=85&auto=format&fit=crop&overlay-align=bottom%2Cleft&overlay-width=100p&overlay-base64=L2ltZy9zdGF0aWMvb3ZlcmxheXMvdGctZGVmYXVsdC5wbmc&enable=upscale&s=9a3fdf591321efe2b625e269f9cf17ed',\n",
       "   'publishedAt': '2022-01-27T17:40:30Z',\n",
       "   'content': 'What do Melania Trumps wide-brimmed white hat, a painting of her wearing the hat and an NFT of an animated version of the hat have in common?\\r\\nThey were all put up for auction by the former first lad… [+1522 chars]'},\n",
       "  {'source': {'id': None, 'name': 'Solana.com'},\n",
       "   'author': None,\n",
       "   'title': 'Solana Pay',\n",
       "   'description': 'Building blocks now exist for decentralized, open, P2P payment protocol',\n",
       "   'url': 'https://solana.com/news/solana-pay-announcement',\n",
       "   'urlToImage': 'https://solana.ghost.io/content/images/2022/01/Solana-Pay-Share.png',\n",
       "   'publishedAt': '2022-02-01T18:12:13Z',\n",
       "   'content': 'A new customer walks into your store looking for the latest hot sneaker release. You have it in stock, and shes thrilled. She pulls out her phone and scans the QR code on your point-of-sale for a sea… [+4192 chars]'},\n",
       "  {'source': {'id': 'reuters', 'name': 'Reuters'},\n",
       "   'author': None,\n",
       "   'title': 'CRYPTOVERSE-Bitcoin squeezes smaller rivals to its crown - Reuters',\n",
       "   'description': 'Bitcoin is beginning to reassert its dominance over challengers to its cryptocurrency crown.',\n",
       "   'url': 'https://www.reuters.com/markets/europe/cryptoverse-bitcoin-squeezes-smaller-rivals-its-crown-2022-02-01/',\n",
       "   'urlToImage': 'https://www.reuters.com/resizer/trzf0WaGaNyLC7bG_gRXhD2h0Ag=/1200x628/smart/filters:quality(80)/cloudfront-us-east-2.images.arcpublishing.com/reuters/SLSYKLM3IJPZNNH5EMCYLZA2F4.jpg',\n",
       "   'publishedAt': '2022-02-01T06:00:00Z',\n",
       "   'content': 'Feb 1 (Reuters) - Bitcoin is beginning to reassert its dominance over challengers to its cryptocurrency crown.\\r\\nThe original digital coin was assailed by thousands of new \"altcoin\" competitors in 202… [+3972 chars]'},\n",
       "  {'source': {'id': 'business-insider', 'name': 'Business Insider'},\n",
       "   'author': 'wbostock@businessinsider.com (Bill Bostock)',\n",
       "   'title': \"Melania Trump's attempt to auction White House memorabilia flopped, falling far short of the $250,000 starting bid thanks to a crypto crash\",\n",
       "   'description': 'Trump got just five bids for her signed hat, watercolor, and NFT. They sold for the equivalent of $162,144, far below her $250,000 guide price.',\n",
       "   'url': 'https://www.businessinsider.com/melania-trump-memorabilia-auction-falls-short-guide-price-crypto-crash-2022-1',\n",
       "   'urlToImage': 'https://i.insider.com/61f267c72fd30f0018aec808?width=1200&format=jpeg',\n",
       "   'publishedAt': '2022-01-27T10:36:53Z',\n",
       "   'content': 'Former first lady Melania Trump\\'s auction of White House memorabilia ended Wednesday morning, garnering just five bids that all fell short of her starting bid.\\r\\nTrump put three \"one-of-a-kind\" items … [+1378 chars]'},\n",
       "  {'source': {'id': 'business-insider', 'name': 'Business Insider'},\n",
       "   'author': 'prosen@insider.com (Phil Rosen)',\n",
       "   'title': 'El Salvador is partnering with a solana-based lending company to offer crypto loans to businesses, report says',\n",
       "   'description': 'The loans, Acumen project manager Andrea Gómez told CoinDesk, will have an annual interest rate of 6% to 7%, but could reach up to 10%.',\n",
       "   'url': 'https://markets.businessinsider.com/news/currencies/el-salvador-crypto-loans-businesses-acumen-bitcoin-city-currency-moodys-2022-1',\n",
       "   'urlToImage': 'https://i.insider.com/615458082fb46b0019be8c36?width=1200&format=jpeg',\n",
       "   'publishedAt': '2022-01-21T16:33:46Z',\n",
       "   'content': \"El Salvador's government plans to offer small and medium-sized companies $10 million in cryptocurrency loans this quarter, according to CoinDesk.\\xa0\\r\\nThe country will partner with solana-based lending … [+1543 chars]\"},\n",
       "  {'source': {'id': None, 'name': 'Gizmodo.com'},\n",
       "   'author': 'Lucas Ropek',\n",
       "   'title': '$325 Million Vanishes From Crypto Platform Wormhole After Apparent Hack',\n",
       "   'description': 'Yet another thunderous crypto theft has descended from the heavens, predictably threatening to bankrupt everyone involved. The aptly named Wormhole, a DeFi cross-chain protocol, announced Wednesday that it had been the victim of a previously unknown exploit, …',\n",
       "   'url': 'https://gizmodo.com/crypto-platform-wormhole-loses-325-million-in-apparent-1848470502',\n",
       "   'urlToImage': 'https://i.kinja-img.com/gawker-media/image/upload/c_fill,f_auto,fl_progressive,g_center,h_675,pg_1,q_80,w_1200/f8a22a688b0ac8adf049f0c9c0cc28fa.jpg',\n",
       "   'publishedAt': '2022-02-03T20:50:00Z',\n",
       "   'content': 'Yet another thunderous crypto theft has descended from the heavens, predictably threatening to bankrupt everyone involved. The aptly named Wormhole, a DeFi cross-chain protocol, announced Wednesday t… [+3023 chars]'},\n",
       "  {'source': {'id': 'reuters', 'name': 'Reuters'},\n",
       "   'author': None,\n",
       "   'title': \"Reddit co-founder Ohanian's venture capital firm raises $500 mln - Reuters\",\n",
       "   'description': 'Reddit co-founder Alexis Ohanian said on Tuesday his venture capital firm 776 Management LLC has raised more than $500 million across two new funds.',\n",
       "   'url': 'https://www.reuters.com/technology/reddit-co-founder-ohanians-venture-capital-firm-raises-500-mln-2022-02-01/',\n",
       "   'urlToImage': 'https://www.reuters.com/resizer/9n3BFGJ_YmpROHkJifmylRT9jzg=/1200x628/smart/filters:quality(80)/cloudfront-us-east-2.images.arcpublishing.com/reuters/S2SLFXG5KNJWTLOMLBHYQ4JM2M.jpg',\n",
       "   'publishedAt': '2022-02-01T14:49:00Z',\n",
       "   'content': 'Feb 1 (Reuters) - Reddit co-founder Alexis Ohanian said on Tuesday his venture capital firm 776 Management LLC has raised more than $500 million across two new funds.\\r\\nThe firm was launched in 2020 a… [+1151 chars]'},\n",
       "  {'source': {'id': 'reuters', 'name': 'Reuters'},\n",
       "   'author': 'Reuters Staff',\n",
       "   'title': \"Reddit co-founder Ohanian's venture capital firm raises $500 mln - Reuters.com\",\n",
       "   'description': 'Reddit co-founder Alexis Ohanian said on Tuesday his venture capital firm 776 Management LLC has raised more than $500 million across two new funds.',\n",
       "   'url': 'https://www.reuters.com/article/776-management-funding-idUSL4N2UC2AU',\n",
       "   'urlToImage': 'https://s1.reutersmedia.net/resources_v2/images/rcom-default.png?w=800',\n",
       "   'publishedAt': '2022-02-01T14:38:00Z',\n",
       "   'content': 'By Reuters Staff\\r\\nFeb 1 (Reuters) - Reddit co-founder Alexis Ohanian said on Tuesday his venture capital firm 776 Management LLC has raised more than $500 million across two new funds.\\r\\nThe firm was … [+915 chars]'},\n",
       "  {'source': {'id': 'reuters', 'name': 'Reuters'},\n",
       "   'author': None,\n",
       "   'title': 'Crypto network Wormhole hit with possible $320 mln hack - Reuters',\n",
       "   'description': 'Hackers may have possibly stolen roughly $320 million worth of cryptocurrency from decentralized finance (DeFi) blockchain networks after a communication channel linking them was breached.',\n",
       "   'url': 'https://www.reuters.com/technology/crypto-network-wormhole-hit-with-possible-320-mln-hack-2022-02-03/',\n",
       "   'urlToImage': 'https://www.reuters.com/resizer/lITFRy1-talX9WKU--6shfEo_7Q=/1200x628/smart/filters:quality(80)/cloudfront-us-east-2.images.arcpublishing.com/reuters/NWXA7QITINJAVJSJIZHRBQFHMA.jpg',\n",
       "   'publishedAt': '2022-02-03T08:32:00Z',\n",
       "   'content': 'Representations of the virtual currency Bitcoin stand on a motherboard in this picture illustration taken May 20, 2021. REUTERS/Dado Ruvic/File PhotoFeb 3 (Reuters) - Hackers may have possibly stolen… [+990 chars]'},\n",
       "  {'source': {'id': 'reuters', 'name': 'Reuters'},\n",
       "   'author': None,\n",
       "   'title': \"Bitcoin investors dig in for long haul in 'staggering' shift - Reuters\",\n",
       "   'description': 'As bitcoin heads into 2022, a growing cohort of long-term investors is doubling down on its stashes of the cryptocurrency, hoping a December dip was merely a festive blip.',\n",
       "   'url': 'https://www.reuters.com/technology/bitcoin-investors-dig-long-haul-staggering-shift-2022-01-17/',\n",
       "   'urlToImage': 'https://www.reuters.com/resizer/jlDXNlasTK780EAhRKGYL4nqshI=/1200x628/smart/filters:quality(80)/cloudfront-us-east-2.images.arcpublishing.com/reuters/WXIF3O4FUVNW7CDMGSEZXSBTOE.jpg',\n",
       "   'publishedAt': '2022-01-17T15:58:00Z',\n",
       "   'content': 'Jan 17 (Reuters) - As bitcoin heads into 2022, a growing cohort of long-term investors is doubling down on its stashes of the cryptocurrency, hoping a December dip was merely a festive blip.\\r\\nSome in… [+3835 chars]'},\n",
       "  {'source': {'id': None, 'name': 'Castanet.net'},\n",
       "   'author': None,\n",
       "   'title': 'Kelowna RCMP have apprehended a man following the conclusion of a police incident on Byrns Road. - Kelowna News - Castanet.net',\n",
       "   'description': '<ol><li>Kelowna RCMP have apprehended a man following the conclusion of a police incident on Byrns Road. - Kelowna News\\xa0\\xa0Castanet.net\\r\\n</li><li>Police search for suspect wanted in death of a Shelburne woman\\xa0\\xa0CTV News Barrie\\r\\n</li><li>Police investigating the …',\n",
       "   'url': 'https://www.castanet.net/news/Kelowna/357186/Kelowna-RCMP-have-apprehended-a-man-following-the-conclusion-of-a-police-incident-on-Byrns-Road-',\n",
       "   'urlToImage': 'https://www.castanet.net/content/2022/1/screen_shot_2022-01-16_at_2.33.56_pm_p3571482.jpg',\n",
       "   'publishedAt': '2022-01-16T23:30:00Z',\n",
       "   'content': 'UPDATE: 3:30 p.m.\\r\\nKelowna RCMP says one man is now in custody following a police incident on Byrns Road Sunday afternoon.\\r\\nOn January 16th, just before Noon, the Kelowna RCMP responded to a report o… [+1885 chars]'},\n",
       "  {'source': {'id': None, 'name': 'Boing Boing'},\n",
       "   'author': 'Jason Weisberger',\n",
       "   'title': \"Crypto is very good at showing Melania's NFT team bought her own NFT\",\n",
       "   'description': 'Grifters are gonna grift, but this whole new-fangled crypto stuff is all about maintaining a permanent record in the blockchain, so Melania and her NFT got caught buying their own NFT.\\n\\n\\n\\nVice:\\n\\n\\n\\nNow, according to Solana blockchain records reviewed by Mother…',\n",
       "   'url': 'https://boingboing.net/2022/02/09/crypto-is-very-good-at-showing-melanias-nft-team-bought-her-own-nft.html',\n",
       "   'urlToImage': 'https://i0.wp.com/boingboing.net/wp-content/uploads/2022/02/shutterstock_1124051246.jpg?fit=1000%2C668&ssl=1',\n",
       "   'publishedAt': '2022-02-09T20:12:02Z',\n",
       "   'content': 'Grifters are gonna grift, but this whole new-fangled crypto stuff is all about maintaining a permanent record in the blockchain, so Melania and her NFT got caught buying their own NFT.Now, according … [+765 chars]'},\n",
       "  {'source': {'id': 'wired', 'name': 'Wired'},\n",
       "   'author': 'Tascha Che',\n",
       "   'title': 'Public Blockchains Are the New National Economies of the Metaverse',\n",
       "   'description': 'The “fiscal” and “monetary” policy tools of smart contract blockchain platforms\\xa0may work even\\xa0better than the economic policy tools of governments.',\n",
       "   'url': 'https://www.wired.com/story/blockchain-cryptocurrency-economics/',\n",
       "   'urlToImage': 'https://media.wired.com/photos/6202ea0049455570f3fe45b9/191:100/w_1280,c_limit/Public-Blockchains-Are-the-New-National-Economies-of-the-Metaverse.jpg',\n",
       "   'publishedAt': '2022-02-09T12:00:00Z',\n",
       "   'content': 'This enables an L1 platform to bootstrap its national economy over time through a flywheel between financial speculation around its native token and actual building of applications and activities in … [+4057 chars]'},\n",
       "  {'source': {'id': 'time', 'name': 'Time'},\n",
       "   'author': 'Megan McCluskey',\n",
       "   'title': 'How Crypto Investors Are Handling Plunging Prices',\n",
       "   'description': 'Amid a sharp plunge for Bitcoin and other top tokens like Ethereum and Solana, some cryptocurrency investors say they’re taking a long-term view of the market to weather the storm. Following a rough week, Bitcoin’s price climbed back up to hover in the $38,00…',\n",
       "   'url': 'https://time.com/6141028/crypto-crash-investors/',\n",
       "   'urlToImage': 'https://api.time.com/wp-content/uploads/2022/01/Crypto-Drop.jpg?quality=85&w=496&h=347&crop=1',\n",
       "   'publishedAt': '2022-02-01T17:03:10Z',\n",
       "   'content': 'Amid a sharp plunge for Bitcoin and other top tokens like Ethereum and Solana, some cryptocurrency investors say they’re taking a long-term view of the market to weather the storm.\\r\\nFollowing a rough… [+6300 chars]'},\n",
       "  {'source': {'id': None, 'name': 'Finbold.com'},\n",
       "   'author': None,\n",
       "   'title': 'Wormhole confirms all $320M in funds have been restored',\n",
       "   'description': 'Hackers stole $322 million from Solana after exploiting a Wormhole vulnerability, but the latest update suggests the funds have been restored.',\n",
       "   'url': 'https://finbold.com/wormhole-confirms-all-300-million-in-funds-have-been-restored/',\n",
       "   'urlToImage': 'https://finbold.com/wp-content/uploads/2022/02/Wormhole-confirms-all-320-million-in-funds-have-been-restored.jpg',\n",
       "   'publishedAt': '2022-02-03T18:19:33Z',\n",
       "   'content': 'After exploiting a Wormhole vulnerability, hackers stole around $322 million from Solana (SOL), but the interoperability protocol has recently updated its users that the funds have been restored.\\r\\nAc… [+1807 chars]'},\n",
       "  {'source': {'id': None, 'name': 'VentureBeat'},\n",
       "   'author': 'Rachel Kaser',\n",
       "   'title': 'Portals raises $5 million to build its city in the metaverse',\n",
       "   'description': 'Portals announced a round of funding that will go towards building its metaverse metropolis, with its customizable social spaces.',\n",
       "   'url': 'https://venturebeat.com/2022/02/11/portals-raises-5-million-to-build-its-city-in-the-metaverse/',\n",
       "   'urlToImage': 'https://venturebeat.com/wp-content/uploads/2022/02/Portals-Blockchain.jpg?w=1200&strip=all',\n",
       "   'publishedAt': '2022-02-11T15:11:24Z',\n",
       "   'content': 'GamesBeat Summit 2022 returns with its largest event for leaders in gaming on April 26-28th.\\xa0Reserve your spot here!\\r\\nPortals today announced it has raised $5 million in a round of funding. It will p… [+1866 chars]'},\n",
       "  {'source': {'id': None, 'name': 'Ctvnews.ca'},\n",
       "   'author': 'Diksha Madhok',\n",
       "   'title': 'Bitcoin value tumbles almost 50 per cent since record November - CTV News',\n",
       "   'description': '<ol><li>Bitcoin value tumbles almost 50 per cent since record November\\xa0\\xa0CTV News\\r\\n</li><li>Bitcoin crashes to five-month low as Russia proposes crypto ban\\xa0\\xa0Yahoo Canada Finance\\r\\n</li><li>Like ‘The 1929 Crash’—New Crypto Winter Warning As Sell-Off Wipes $1.5 T…',\n",
       "   'url': 'https://www.ctvnews.ca/sci-tech/bitcoin-value-tumbles-almost-50-per-cent-since-record-november-1.5750783',\n",
       "   'urlToImage': 'https://www.ctvnews.ca/polopoly_fs/1.5750786.1642871612!/httpImage/image.jpg_gen/derivatives/landscape_620/image.jpg',\n",
       "   'publishedAt': '2022-01-22T17:14:25Z',\n",
       "   'content': \"Bitcoin has lost almost half its value since its November high, with cryptocurrency prices continuing to plunge as major economies look to curb their growing popularity.\\r\\nAnd it's not just Bitcoin, a… [+1912 chars]\"},\n",
       "  {'source': {'id': 'business-insider', 'name': 'Business Insider'},\n",
       "   'author': 'prosen@insider.com (Phil Rosen)',\n",
       "   'title': \"Bitcoin prices will have a 'golden period' in 2024 but will hit more volatility before then, says Thailand's largest digital asset exchange\",\n",
       "   'description': \"In 2024, the world's top cryptocurrency will begin its next halving process, which will slow the rate at which new bitcoins are created.\",\n",
       "   'url': 'https://markets.businessinsider.com/news/currencies/bitcoin-price-outlook-bull-run-golden-period-halving-2024-volatility-2022-2',\n",
       "   'urlToImage': 'https://i.insider.com/61faaa5c0042510018f40455?width=1200&format=jpeg',\n",
       "   'publishedAt': '2022-02-02T16:56:51Z',\n",
       "   'content': \"The price of bitcoin is set for a bull run in 2024 when it begins another halving period, though the cryptocurrency market will see more \\r\\nvolatility before then, according to Thailand's largest digi… [+1326 chars]\"}]}"
      ]
     },
     "execution_count": 199,
     "metadata": {},
     "output_type": "execute_result"
    }
   ],
   "source": [
    "# Fetch top news articles about Solana Cryptocurrency\n",
    "Solana_cryptocurrency_headlines = newsapi.get_everything(\n",
    "    q=\"solana\", language=\"en\", sort_by=\"relevancy\"\n",
    ")\n",
    "Solana_cryptocurrency_headlines"
   ]
  },
  {
   "cell_type": "code",
   "execution_count": 66,
   "id": "6ed534e5-e3a4-45a0-8a9e-3962dd6016fc",
   "metadata": {},
   "outputs": [
    {
     "data": {
      "text/plain": [
       "'Wired'"
      ]
     },
     "execution_count": 66,
     "metadata": {},
     "output_type": "execute_result"
    }
   ],
   "source": [
    "Solana_cryptocurrency_headlines['articles'][0]['source']['name']"
   ]
  },
  {
   "cell_type": "code",
   "execution_count": 67,
   "id": "ff5e1578-badb-41fb-8438-fda0777adf81",
   "metadata": {},
   "outputs": [
    {
     "data": {
      "text/plain": [
       "'New York Times'"
      ]
     },
     "execution_count": 67,
     "metadata": {},
     "output_type": "execute_result"
    }
   ],
   "source": [
    "Solana_cryptocurrency_headlines['articles'][1]['source']['name']"
   ]
  },
  {
   "cell_type": "code",
   "execution_count": 68,
   "id": "508692b1-f2f4-411a-9059-fd80958590d1",
   "metadata": {},
   "outputs": [
    {
     "data": {
      "text/plain": [
       "20"
      ]
     },
     "execution_count": 68,
     "metadata": {},
     "output_type": "execute_result"
    }
   ],
   "source": [
    "len(Solana_cryptocurrency_headlines['articles'])"
   ]
  },
  {
   "cell_type": "code",
   "execution_count": 69,
   "id": "a36f7e94-9984-4002-8a28-da7d1db96d01",
   "metadata": {},
   "outputs": [
    {
     "data": {
      "text/plain": [
       "'Melania Trump’s Auction of Hat Hit by Plunge in Cryptocurrency'"
      ]
     },
     "execution_count": 69,
     "metadata": {},
     "output_type": "execute_result"
    }
   ],
   "source": [
    "Solana_cryptocurrency_headlines['articles'][1]['title']"
   ]
  },
  {
   "cell_type": "code",
   "execution_count": 70,
   "id": "b1de2b25-48c4-48ac-85c4-b631261757b1",
   "metadata": {},
   "outputs": [
    {
     "name": "stdout",
     "output_type": "stream",
     "text": [
      "Wired\n",
      "Playing With Crypto? You’ll Need a Wallet (or Several)\n",
      "Buying and selling NFTs or transferring digital currency is going to require a little leap of faith. Here’s how to get started.\n",
      "New York Times\n",
      "Melania Trump’s Auction of Hat Hit by Plunge in Cryptocurrency\n",
      "The former first lady is selling a hat she wore for a visit by the French president amid volatility in the value of the digital currency being used for the auction.\n",
      "The Guardian\n",
      "Melania Trump’s auction of NFT, hat and painting fall short of $250,000 opening bid\n",
      "Steep dive in crypto market resulted in final bid of about $170,000 – about $80,000 short of the starting bid thresholdWhat do Melania Trump’s wide-brimmed white hat, a painting of her wearing the hat and an NFT of an animated version of the hat have in commo…\n",
      "Solana.com\n",
      "Solana Pay\n",
      "Building blocks now exist for decentralized, open, P2P payment protocol\n",
      "Reuters\n",
      "CRYPTOVERSE-Bitcoin squeezes smaller rivals to its crown - Reuters\n",
      "Bitcoin is beginning to reassert its dominance over challengers to its cryptocurrency crown.\n",
      "Business Insider\n",
      "Melania Trump's attempt to auction White House memorabilia flopped, falling far short of the $250,000 starting bid thanks to a crypto crash\n",
      "Trump got just five bids for her signed hat, watercolor, and NFT. They sold for the equivalent of $162,144, far below her $250,000 guide price.\n",
      "Business Insider\n",
      "El Salvador is partnering with a solana-based lending company to offer crypto loans to businesses, report says\n",
      "The loans, Acumen project manager Andrea Gómez told CoinDesk, will have an annual interest rate of 6% to 7%, but could reach up to 10%.\n",
      "Gizmodo.com\n",
      "$325 Million Vanishes From Crypto Platform Wormhole After Apparent Hack\n",
      "Yet another thunderous crypto theft has descended from the heavens, predictably threatening to bankrupt everyone involved. The aptly named Wormhole, a DeFi cross-chain protocol, announced Wednesday that it had been the victim of a previously unknown exploit, …\n",
      "Reuters\n",
      "Reddit co-founder Ohanian's venture capital firm raises $500 mln - Reuters.com\n",
      "Reddit co-founder Alexis Ohanian said on Tuesday his venture capital firm 776 Management LLC has raised more than $500 million across two new funds.\n",
      "Reuters\n",
      "Reddit co-founder Ohanian's venture capital firm raises $500 mln - Reuters\n",
      "Reddit co-founder Alexis Ohanian said on Tuesday his venture capital firm 776 Management LLC has raised more than $500 million across two new funds.\n",
      "Reuters\n",
      "Crypto network Wormhole hit with possible $320 mln hack - Reuters\n",
      "Hackers may have possibly stolen roughly $320 million worth of cryptocurrency from decentralized finance (DeFi) blockchain networks after a communication channel linking them was breached.\n",
      "Reuters\n",
      "Bitcoin investors dig in for long haul in 'staggering' shift - Reuters\n",
      "As bitcoin heads into 2022, a growing cohort of long-term investors is doubling down on its stashes of the cryptocurrency, hoping a December dip was merely a festive blip.\n",
      "Castanet.net\n",
      "Kelowna RCMP have apprehended a man following the conclusion of a police incident on Byrns Road. - Kelowna News - Castanet.net\n",
      "<ol><li>Kelowna RCMP have apprehended a man following the conclusion of a police incident on Byrns Road. - Kelowna News  Castanet.net\n",
      "</li><li>Police search for suspect wanted in death of a Shelburne woman  CTV News Barrie\n",
      "</li><li>Police investigating the …\n",
      "Boing Boing\n",
      "Crypto is very good at showing Melania's NFT team bought her own NFT\n",
      "Grifters are gonna grift, but this whole new-fangled crypto stuff is all about maintaining a permanent record in the blockchain, so Melania and her NFT got caught buying their own NFT.\n",
      "\n",
      "\n",
      "\n",
      "Vice:\n",
      "\n",
      "\n",
      "\n",
      "Now, according to Solana blockchain records reviewed by Mother…\n",
      "Wired\n",
      "Public Blockchains Are the New National Economies of the Metaverse\n",
      "The “fiscal” and “monetary” policy tools of smart contract blockchain platforms may work even better than the economic policy tools of governments.\n",
      "Time\n",
      "How Crypto Investors Are Handling Plunging Prices\n",
      "Amid a sharp plunge for Bitcoin and other top tokens like Ethereum and Solana, some cryptocurrency investors say they’re taking a long-term view of the market to weather the storm. Following a rough week, Bitcoin’s price climbed back up to hover in the $38,00…\n",
      "Finbold.com\n",
      "Wormhole confirms all $320M in funds have been restored\n",
      "Hackers stole $322 million from Solana after exploiting a Wormhole vulnerability, but the latest update suggests the funds have been restored.\n",
      "VentureBeat\n",
      "Portals raises $5 million to build its city in the metaverse\n",
      "Portals announced a round of funding that will go towards building its metaverse metropolis, with its customizable social spaces.\n",
      "Ctvnews.ca\n",
      "Bitcoin value tumbles almost 50 per cent since record November - CTV News\n",
      "<ol><li>Bitcoin value tumbles almost 50 per cent since record November  CTV News\n",
      "</li><li>Bitcoin crashes to five-month low as Russia proposes crypto ban  Yahoo Canada Finance\n",
      "</li><li>Like ‘The 1929 Crash’—New Crypto Winter Warning As Sell-Off Wipes $1.5 T…\n",
      "Business Insider\n",
      "Bitcoin prices will have a 'golden period' in 2024 but will hit more volatility before then, says Thailand's largest digital asset exchange\n",
      "In 2024, the world's top cryptocurrency will begin its next halving process, which will slow the rate at which new bitcoins are created.\n"
     ]
    }
   ],
   "source": [
    "for article in range (len(Solana_cryptocurrency_headlines['articles'])):\n",
    "    print(Solana_cryptocurrency_headlines['articles'][article]['source']['name'])\n",
    "    print(Solana_cryptocurrency_headlines['articles'][article]['title'])\n",
    "    print(Solana_cryptocurrency_headlines['articles'][article]['description'])"
   ]
  },
  {
   "cell_type": "code",
   "execution_count": 71,
   "id": "f9a4946b-052d-433b-bfaf-6d35cb20c376",
   "metadata": {},
   "outputs": [],
   "source": [
    "# Create a newsapi client\n",
    "newsapi = NewsApiClient(api_key=News_Api_Key)"
   ]
  },
  {
   "cell_type": "code",
   "execution_count": 73,
   "id": "d5222a61-644a-49cb-8e46-f40acd6b2d6e",
   "metadata": {},
   "outputs": [
    {
     "data": {
      "text/plain": [
       "{'status': 'ok',\n",
       " 'totalResults': 474,\n",
       " 'articles': [{'source': {'id': None, 'name': 'VentureBeat'},\n",
       "   'author': 'Dean Takahashi',\n",
       "   'title': 'Meld launches decentralized lending on Cardano for the unbanked',\n",
       "   'description': 'Meld is launching a cryptocurrency borrowing and lending protocol based on the Cardano blockchain protocol.',\n",
       "   'url': 'https://venturebeat.com/2022/02/03/meld-launches-decentralized-lending-on-cardano/',\n",
       "   'urlToImage': 'https://venturebeat.com/wp-content/uploads/2022/02/meld.jpg?w=1200&strip=all',\n",
       "   'publishedAt': '2022-02-03T14:00:00Z',\n",
       "   'content': \"Join today's leading executives online at the Data Summit on March 9th. Register here.\\r\\nDecentralized businesses built around the blockchain are multiplying, and Meld is unveiling a cryptocurrency bo… [+13959 chars]\"},\n",
       "  {'source': {'id': 'wired', 'name': 'Wired'},\n",
       "   'author': 'Gian M. Volpicelli',\n",
       "   'title': 'Gibraltar Could Launch the World’s First Crypto Stock Exchange',\n",
       "   'description': '“The Rock” hopes a new stock exchange will attract crypto millionaires who want to avoid hefty taxes.',\n",
       "   'url': 'https://www.wired.com/story/gibraltar-crypto-exchange/',\n",
       "   'urlToImage': 'https://media.wired.com/photos/61f0b4bf03f9ae99229f47d4/191:100/w_1280,c_limit/Business_Gibraltar-1208348908.jpg',\n",
       "   'publishedAt': '2022-01-26T12:00:00Z',\n",
       "   'content': 'British entrepreneur and financier Richard ODell Poulden hopes that his new venture will relieve the plight of an underserved cohort: Bitcoin billionaires who want to buy a house.\\r\\nIn October, Poulde… [+3364 chars]'},\n",
       "  {'source': {'id': None, 'name': 'Ctvnews.ca'},\n",
       "   'author': 'Diksha Madhok',\n",
       "   'title': 'Bitcoin value tumbles almost 50 per cent since record November - CTV News',\n",
       "   'description': '<ol><li>Bitcoin value tumbles almost 50 per cent since record November\\xa0\\xa0CTV News\\r\\n</li><li>Bitcoin crashes to five-month low as Russia proposes crypto ban\\xa0\\xa0Yahoo Canada Finance\\r\\n</li><li>Like ‘The 1929 Crash’—New Crypto Winter Warning As Sell-Off Wipes $1.5 T…',\n",
       "   'url': 'https://www.ctvnews.ca/sci-tech/bitcoin-value-tumbles-almost-50-per-cent-since-record-november-1.5750783',\n",
       "   'urlToImage': 'https://www.ctvnews.ca/polopoly_fs/1.5750786.1642871612!/httpImage/image.jpg_gen/derivatives/landscape_620/image.jpg',\n",
       "   'publishedAt': '2022-01-22T17:14:25Z',\n",
       "   'content': \"Bitcoin has lost almost half its value since its November high, with cryptocurrency prices continuing to plunge as major economies look to curb their growing popularity.\\r\\nAnd it's not just Bitcoin, a… [+1912 chars]\"},\n",
       "  {'source': {'id': None, 'name': 'FX Empire'},\n",
       "   'author': None,\n",
       "   'title': \"Samsung's New Phone has Digital Wallet Feature to Support Crypto Storage - FX Empire\",\n",
       "   'description': \"<ol><li>Samsung's New Phone has Digital Wallet Feature to Support Crypto Storage\\xa0\\xa0FX Empire\\r\\n</li><li>Let's take a closer look at the Galaxy S22 Ultra's cameras\\xa0\\xa0MobileSyrup\\r\\n</li><li>Why Samsung did the right thing by bringing the S Pen to Galaxy S22 Ultra\\xa0\\xa0…\",\n",
       "   'url': 'https://www.fxempire.com/news/article/samsungs-new-phone-has-digital-wallet-feature-to-support-crypto-storage-894754',\n",
       "   'urlToImage': 'https://responsive.fxempire.com/width/600/webp-lossy-70.q50/_fxempire_/2022/02/526910DB-7AFD-4CAF-AEB1-1ACB4C87A782.jpeg',\n",
       "   'publishedAt': '2022-02-10T18:13:37Z',\n",
       "   'content': 'Samsung isnt the only South Korean company working on blockchain-powered wallets. Several companies in the country are developing similar tools that allow users to store several digital documents in … [+1070 chars]'},\n",
       "  {'source': {'id': 'time', 'name': 'Time'},\n",
       "   'author': 'Time',\n",
       "   'title': 'Bitcoin Has Lost Half Its Value Since Hitting Record High',\n",
       "   'description': 'Bitcoin extended its decline on Saturday, and has shed more than 50% from its record high in November while adding further momentum to the meltdown in cryptocurrencies.',\n",
       "   'url': 'https://time.com/6141202/bitcoin-value/',\n",
       "   'urlToImage': 'https://api.time.com/wp-content/uploads/2022/01/B-1.jpg?quality=85&w=1024&h=628&crop=1',\n",
       "   'publishedAt': '2022-01-22T17:23:54Z',\n",
       "   'content': 'Bitcoin extended its decline on Saturday, and has shed more than 50% from its record high in November while adding further momentum to the meltdown in cryptocurrencies.\\r\\n“Margin positions being liqui… [+1539 chars]'},\n",
       "  {'source': {'id': 'business-insider', 'name': 'Business Insider'},\n",
       "   'author': 'hrobertson@businessinsider.com (Harry Robertson)',\n",
       "   'title': 'US stock futures fall as investors shun risky assets ahead of the key Fed rate meeting, while the crypto sell-off persists',\n",
       "   'description': \"Stocks look set to lose more ground after the S&P 500 had its worst week since March 2020, as investors brace for this week's Federal Reserve meeting.\",\n",
       "   'url': 'https://markets.businessinsider.com/news/stocks/stock-market-today-us-futures-dow-sp500-tech-fed-rates-2022-1',\n",
       "   'urlToImage': 'https://images2.markets.businessinsider.com/618041a823745d00182484d2?format=jpeg',\n",
       "   'publishedAt': '2022-01-24T11:22:59Z',\n",
       "   'content': \"It's been a volatile start to the year on Wall Street.AP Photo/Richard Drew\\r\\nUS stock futures slid Monday following the worst week for the S&amp;P 500 since March 2020, as investors fretted about int… [+3586 chars]\"},\n",
       "  {'source': {'id': 'al-jazeera-english', 'name': 'Al Jazeera English'},\n",
       "   'author': 'Al Jazeera',\n",
       "   'title': 'Cardano is outperforming rivals Bitcoin and Ether',\n",
       "   'description': \"Cardano's ADA token has risen 30% in the past seven days, while Bitcoin, Ether, Solana and XRP advanced less than 5%.\",\n",
       "   'url': 'https://www.aljazeera.com/economy/2022/1/17/cardano-is-outperforming-rivals-bitcoin-and-ether',\n",
       "   'urlToImage': 'https://www.aljazeera.com/wp-content/uploads/2022/01/382994332.jpg?resize=1200%2C630',\n",
       "   'publishedAt': '2022-01-17T19:59:34Z',\n",
       "   'content': 'Cardanos ADA token has surged in the past week, even as the likes of Bitcoin and Ether traded sideways, amid some promising developments on its blockchain.\\r\\nADA has risen 30% in the past seven days, … [+2624 chars]'},\n",
       "  {'source': {'id': 'reuters', 'name': 'Reuters'},\n",
       "   'author': None,\n",
       "   'title': \"Factbox: Gas and nuclear are 'green'? Not so fast, say some investors - Reuters\",\n",
       "   'description': \"The European Commission's draft proposal that natural gas and nuclear energy should be labelled as green investments has split money managers.\",\n",
       "   'url': 'https://www.reuters.com/markets/commodities/gas-nuclear-are-green-not-so-fast-say-some-investors-2022-01-26/',\n",
       "   'urlToImage': 'https://www.reuters.com/pf/resources/images/reuters/reuters-default.png?d=69',\n",
       "   'publishedAt': '2022-01-26T07:00:00Z',\n",
       "   'content': \"Jan 26 (Reuters) - The European Commission's draft proposal that natural gas and nuclear energy should be labelled as green investments has split money managers.\\r\\nBelow are the views of some investor… [+5969 chars]\"},\n",
       "  {'source': {'id': 'reuters', 'name': 'Reuters'},\n",
       "   'author': None,\n",
       "   'title': 'Analysis: Investor clash on gas and nuclear muddies EU green finance drive - Reuters',\n",
       "   'description': 'European efforts to reach a common definition of sustainable investments risk fragmenting the market they aimed to unify, as investors are deeply divided over which energy sources should count as green.',\n",
       "   'url': 'https://www.reuters.com/markets/europe/investor-clash-gas-nuclear-muddies-eu-green-finance-drive-2022-01-26/',\n",
       "   'urlToImage': 'https://www.reuters.com/resizer/wPcTUzBjFcjjrl5g-ks-zrPWCcA=/1200x628/smart/filters:quality(80)/cloudfront-us-east-2.images.arcpublishing.com/reuters/3AN2V7JVCZLBXCZQVVTCOFUE5Q.jpg',\n",
       "   'publishedAt': '2022-01-26T07:00:00Z',\n",
       "   'content': 'LONDON/BRUSSELS, Jan 26 (Reuters) - European efforts to reach a common definition of sustainable investments risk fragmenting the market they aimed to unify, as investors are deeply divided over whic… [+5651 chars]'},\n",
       "  {'source': {'id': None, 'name': 'Techmeme.com'},\n",
       "   'author': None,\n",
       "   'title': 'Canadian authorities have ordered regulated financial firms to cease transactions from 34 crypto wallets, worth over $870K, tied to funding the \"Freedom Convoy\" (CoinDesk)',\n",
       "   'description': 'CoinDesk:\\nCanadian authorities have ordered regulated financial firms to cease transactions from 34 crypto wallets, worth over $870K, tied to funding the “Freedom Convoy”\\xa0 —\\xa0 Bitcoin, Ethereum, Litecoin, Monero and Cardano addresses are all on the list.\\xa0 —\\xa0 T…',\n",
       "   'url': 'https://www.techmeme.com/220216/p34',\n",
       "   'urlToImage': 'https://www.coindesk.com/resizer/_6PUUuYULmyz7HLsWZwHrDDwfDE=/1200x628/center/middle/cloudfront-us-east-1.images.arcpublishing.com/coindesk/MJFPE6N6PZCQXBZWHLMS5BPV4A.jpg',\n",
       "   'publishedAt': '2022-02-16T22:45:01Z',\n",
       "   'content': 'CB Insights Newsletter\\r\\n724,948 subscribers get our free newsletter to stay a step ahead on technology trends, venture capital, startups, and the industries of tomorrow.'},\n",
       "  {'source': {'id': None, 'name': 'Motley Fool'},\n",
       "   'author': 'newsfeedback@fool.com (Will Ebiefung)',\n",
       "   'title': '2 Top Cryptocurrencies to Buy for the Long Haul',\n",
       "   'description': 'Cardano and Ripple look positioned for lasting success.',\n",
       "   'url': 'https://www.fool.com/investing/2022/02/04/2-top-cryptocurrencies-to-buy-for-the-long-haul/',\n",
       "   'urlToImage': 'https://g.foolcdn.com/editorial/images/664163/gettyimages-1323758599.jpg',\n",
       "   'publishedAt': '2022-02-04T13:15:00Z',\n",
       "   'content': 'Are you looking for investments with multibagger potential? Look no further than crypto. While this asset class has been off to a rough start in 2022, its long-term prospects look good as blockchain … [+3470 chars]'},\n",
       "  {'source': {'id': None, 'name': 'Motley Fool'},\n",
       "   'author': 'newsfeedback@fool.com (Will Ebiefung)',\n",
       "   'title': '2 Top Cryptocurrencies to Buy for the Long Haul',\n",
       "   'description': 'Despite recent challenges, Ethereum and Cardano look poised to outperform over the long term.',\n",
       "   'url': 'https://www.fool.com/investing/2022/01/23/2-top-cryptocurrencies-to-buy-for-the-long-haul/',\n",
       "   'urlToImage': 'https://g.foolcdn.com/editorial/images/662114/gettyimages-466489521.jpg',\n",
       "   'publishedAt': '2022-01-23T12:00:00Z',\n",
       "   'content': \"Cryptocurrency is facing a rough patch right now, with the market's total valuation down 20% year to date to $1.77 trillion at the time of this writing. But blockchain's long-term prospects look inta… [+3365 chars]\"},\n",
       "  {'source': {'id': None, 'name': 'Motley Fool'},\n",
       "   'author': 'newsfeedback@fool.com (Chris MacDonald and Jon Quast)',\n",
       "   'title': 'Cardano: The First Carbon-Negative Blockchain?',\n",
       "   'description': 'Cardano is a fast-growing project, but could it actually be good for the environment?',\n",
       "   'url': 'https://www.fool.com/investing/2022/01/23/cardano-the-first-carbon-negative-blockchain/',\n",
       "   'urlToImage': 'https://g.foolcdn.com/editorial/images/661309/cardano.jpg',\n",
       "   'publishedAt': '2022-01-23T12:30:00Z',\n",
       "   'content': \"One of the proof-of-stake cryptocurrencies that's gaining a lot of attention right now for its eco-friendly status is\\xa0Cardano\\xa0(CRYPTO:ADA). Here's Fool.com contributors Chris MacDonald and Jon Quast … [+3794 chars]\"},\n",
       "  {'source': {'id': None, 'name': 'Motley Fool'},\n",
       "   'author': 'newsfeedback@fool.com (Trevor Jennewine)',\n",
       "   'title': 'After the Crypto Market Crash, Can Cardano Reach $25 by 2025?',\n",
       "   'description': 'Cardano is one of the most popular blockchain projects in the crypto industry.',\n",
       "   'url': 'https://www.fool.com/investing/2022/02/08/crypto-market-crash-can-cardano-reach-25-by-2025/',\n",
       "   'urlToImage': 'https://g.foolcdn.com/editorial/images/664616/investor-39.jpg',\n",
       "   'publishedAt': '2022-02-08T11:50:00Z',\n",
       "   'content': 'The cryptocurrency market has plunged roughly 40% since reaching a high in early November, shedding $1.2 trillion in less than three months. But Cardano(CRYPTO:ADA) has been hit even harder. The pric… [+5064 chars]'},\n",
       "  {'source': {'id': None, 'name': 'Motley Fool'},\n",
       "   'author': 'newsfeedback@fool.com (Trevor Jennewine)',\n",
       "   'title': 'Better Cryptocurrency to Buy: Cardano vs. Solana',\n",
       "   'description': 'Both of these blockchain projects have crypto investors buzzing with excitement.',\n",
       "   'url': 'https://www.fool.com/investing/2022/02/11/better-cryptocurrency-to-buy-cardano-vs-solana/',\n",
       "   'urlToImage': 'https://g.foolcdn.com/editorial/images/665231/investor-47.jpg',\n",
       "   'publishedAt': '2022-02-11T10:30:00Z',\n",
       "   'content': 'The crypto economy has exploded in recent years, creating a tremendous amount of wealth in the process. But few blockchain projects have generated as much enthusiasm as Cardano(CRYPTO:ADA) and Solana… [+4664 chars]'},\n",
       "  {'source': {'id': None, 'name': 'Motley Fool'},\n",
       "   'author': 'newsfeedback@fool.com (Daniel Foelber)',\n",
       "   'title': \"Is the Crypto Sell-Off Over? 3 Things to Do If There's More Pain in Store for 2022\",\n",
       "   'description': 'Bitcoin, Ethereum, Solana, and Cardano are all down big off their highs.',\n",
       "   'url': 'https://www.fool.com/investing/2022/01/20/is-the-crypto-sell-off-over-3-things-to-do-if-ther/',\n",
       "   'urlToImage': 'https://g.foolcdn.com/editorial/images/661501/gettyimages-1150767851.jpg',\n",
       "   'publishedAt': '2022-01-20T12:10:00Z',\n",
       "   'content': 'A new year can be the perfect time to reassess spending habits and set new financial goals. But that task becomes a little challenging if equity and crypto prices are falling all around you. Bitcoin … [+3924 chars]'},\n",
       "  {'source': {'id': None, 'name': 'Motley Fool'},\n",
       "   'author': 'newsfeedback@fool.com (Chris Neiger)',\n",
       "   'title': 'Beyond Dogecoin -- These 3 Unique Cryptos Are Better Buys',\n",
       "   'description': 'Bitcoin, Ethereum, and Cardano offer investors more than the crapshoot that is Dogecoin.',\n",
       "   'url': 'https://www.fool.com/investing/2022/02/09/beyond-dogecoin-these-3-unique-cryptos-are-better/',\n",
       "   'urlToImage': 'https://g.foolcdn.com/editorial/images/664970/gettyimages-1320498007.jpg',\n",
       "   'publishedAt': '2022-02-09T12:30:00Z',\n",
       "   'content': \"Dogecoin may be one of the best examples of a highly speculative cryptocurrency. Back in 2013, Dogecoin was created as a joke based on a popular meme. Now, it's the 11th-largest cryptocurrency by mar… [+4461 chars]\"},\n",
       "  {'source': {'id': None, 'name': 'Motley Fool'},\n",
       "   'author': 'newsfeedback@fool.com (Adria Cimino)',\n",
       "   'title': 'Will Cardano Hit $3 in 2022?',\n",
       "   'description': 'One big catalyst this year may help.',\n",
       "   'url': 'https://www.fool.com/investing/2022/01/27/will-cardano-hit-3-in-2022/',\n",
       "   'urlToImage': 'https://g.foolcdn.com/editorial/images/662983/gettyimages-1341523397.jpg',\n",
       "   'publishedAt': '2022-01-27T11:00:00Z',\n",
       "   'content': 'When investors talk about potential cryptocurrency leaders, Cardano(CRYPTO:ADA) is often part of the conversation. There are plenty of reasons to be excited about Cardano, including the fact that it … [+3050 chars]'},\n",
       "  {'source': {'id': 'the-times-of-india', 'name': 'The Times of India'},\n",
       "   'author': 'Pawan Nahar',\n",
       "   'title': 'Top cryptocurrency prices today: Bitcoin, Ethereum slip; Cardano zooms 7%',\n",
       "   'description': 'Barring Cardano and dollar-pegged Tether, all other eight out of top-10 digital tokens were trading lower during the early trade on Tuesday. Cardano zoomed over 7 per cent although Terra tanked over 10 per cent.',\n",
       "   'url': 'https://economictimes.indiatimes.com/markets/cryptocurrency/top-cryptocurrency-prices-today-bitcoin-ethereum-slip-cardano-zooms-7/articleshow/88964726.cms',\n",
       "   'urlToImage': 'https://img.etimg.com/thumb/msid-88964774,width-1070,height-580,imgsize-56735,overlay-etmarkets/photo.jpg',\n",
       "   'publishedAt': '2022-01-18T03:55:20Z',\n",
       "   'content': 'New Delhi: Crypto prices dipped on Tuesday, following a national holiday in the US, and showed few signs of reversing any time soon. Barring Cardano, all other altcoins fell in tandem with the numero… [+4172 chars]'},\n",
       "  {'source': {'id': None, 'name': 'Motley Fool'},\n",
       "   'author': 'newsfeedback@fool.com (Adria Cimino)',\n",
       "   'title': '3 Reasons to Fall in Love With Cardano',\n",
       "   'description': 'This player is at the start of its growth story.',\n",
       "   'url': 'https://www.fool.com/investing/2022/02/14/3-reasons-to-fall-in-love-with-cardano/',\n",
       "   'urlToImage': 'https://g.foolcdn.com/editorial/images/665784/gettyimages-1297634652.jpg',\n",
       "   'publishedAt': '2022-02-14T11:00:00Z',\n",
       "   'content': 'Cardano(CRYPTO:ADA) has climbed its way up in the ranks of cryptocurrencies over the past year. This young player is now the seventh-biggest crypto by market value. Investors and users are flocking t… [+3230 chars]'}]}"
      ]
     },
     "execution_count": 73,
     "metadata": {},
     "output_type": "execute_result"
    }
   ],
   "source": [
    "# Fetch top news articles about Cardano Cryptocurrency\n",
    "Cardano_cryptocurrency_headlines = newsapi.get_everything(\n",
    "    q=\"cardano\", language=\"en\", sort_by=\"relevancy\"\n",
    ")\n",
    "Cardano_cryptocurrency_headlines"
   ]
  },
  {
   "cell_type": "code",
   "execution_count": 74,
   "id": "f7494755-f88c-4646-ab8b-ac120c17b986",
   "metadata": {},
   "outputs": [
    {
     "data": {
      "text/plain": [
       "'VentureBeat'"
      ]
     },
     "execution_count": 74,
     "metadata": {},
     "output_type": "execute_result"
    }
   ],
   "source": [
    "Cardano_cryptocurrency_headlines['articles'][0]['source']['name']"
   ]
  },
  {
   "cell_type": "code",
   "execution_count": 75,
   "id": "3ecd3319-7fac-4dee-9bb4-48bfcd31c9f9",
   "metadata": {},
   "outputs": [
    {
     "data": {
      "text/plain": [
       "'Wired'"
      ]
     },
     "execution_count": 75,
     "metadata": {},
     "output_type": "execute_result"
    }
   ],
   "source": [
    "Cardano_cryptocurrency_headlines['articles'][1]['source']['name']"
   ]
  },
  {
   "cell_type": "code",
   "execution_count": 76,
   "id": "a5a04938-dcc9-4b05-bf8b-463d9af43573",
   "metadata": {},
   "outputs": [
    {
     "data": {
      "text/plain": [
       "20"
      ]
     },
     "execution_count": 76,
     "metadata": {},
     "output_type": "execute_result"
    }
   ],
   "source": [
    "len(Cardano_cryptocurrency_headlines['articles'])"
   ]
  },
  {
   "cell_type": "code",
   "execution_count": 77,
   "id": "d226594a-c188-40b2-9da4-380f0e852c96",
   "metadata": {},
   "outputs": [
    {
     "data": {
      "text/plain": [
       "'Gibraltar Could Launch the World’s First Crypto Stock Exchange'"
      ]
     },
     "execution_count": 77,
     "metadata": {},
     "output_type": "execute_result"
    }
   ],
   "source": [
    "Cardano_cryptocurrency_headlines['articles'][1]['title']"
   ]
  },
  {
   "cell_type": "code",
   "execution_count": 78,
   "id": "82a904ed-8520-49ec-8187-da46d85a9b44",
   "metadata": {},
   "outputs": [
    {
     "name": "stdout",
     "output_type": "stream",
     "text": [
      "VentureBeat\n",
      "Meld launches decentralized lending on Cardano for the unbanked\n",
      "Meld is launching a cryptocurrency borrowing and lending protocol based on the Cardano blockchain protocol.\n",
      "Wired\n",
      "Gibraltar Could Launch the World’s First Crypto Stock Exchange\n",
      "“The Rock” hopes a new stock exchange will attract crypto millionaires who want to avoid hefty taxes.\n",
      "Ctvnews.ca\n",
      "Bitcoin value tumbles almost 50 per cent since record November - CTV News\n",
      "<ol><li>Bitcoin value tumbles almost 50 per cent since record November  CTV News\n",
      "</li><li>Bitcoin crashes to five-month low as Russia proposes crypto ban  Yahoo Canada Finance\n",
      "</li><li>Like ‘The 1929 Crash’—New Crypto Winter Warning As Sell-Off Wipes $1.5 T…\n",
      "FX Empire\n",
      "Samsung's New Phone has Digital Wallet Feature to Support Crypto Storage - FX Empire\n",
      "<ol><li>Samsung's New Phone has Digital Wallet Feature to Support Crypto Storage  FX Empire\n",
      "</li><li>Let's take a closer look at the Galaxy S22 Ultra's cameras  MobileSyrup\n",
      "</li><li>Why Samsung did the right thing by bringing the S Pen to Galaxy S22 Ultra  …\n",
      "Time\n",
      "Bitcoin Has Lost Half Its Value Since Hitting Record High\n",
      "Bitcoin extended its decline on Saturday, and has shed more than 50% from its record high in November while adding further momentum to the meltdown in cryptocurrencies.\n",
      "Business Insider\n",
      "US stock futures fall as investors shun risky assets ahead of the key Fed rate meeting, while the crypto sell-off persists\n",
      "Stocks look set to lose more ground after the S&P 500 had its worst week since March 2020, as investors brace for this week's Federal Reserve meeting.\n",
      "Al Jazeera English\n",
      "Cardano is outperforming rivals Bitcoin and Ether\n",
      "Cardano's ADA token has risen 30% in the past seven days, while Bitcoin, Ether, Solana and XRP advanced less than 5%.\n",
      "Reuters\n",
      "Factbox: Gas and nuclear are 'green'? Not so fast, say some investors - Reuters\n",
      "The European Commission's draft proposal that natural gas and nuclear energy should be labelled as green investments has split money managers.\n",
      "Reuters\n",
      "Analysis: Investor clash on gas and nuclear muddies EU green finance drive - Reuters\n",
      "European efforts to reach a common definition of sustainable investments risk fragmenting the market they aimed to unify, as investors are deeply divided over which energy sources should count as green.\n",
      "Techmeme.com\n",
      "Canadian authorities have ordered regulated financial firms to cease transactions from 34 crypto wallets, worth over $870K, tied to funding the \"Freedom Convoy\" (CoinDesk)\n",
      "CoinDesk:\n",
      "Canadian authorities have ordered regulated financial firms to cease transactions from 34 crypto wallets, worth over $870K, tied to funding the “Freedom Convoy”  —  Bitcoin, Ethereum, Litecoin, Monero and Cardano addresses are all on the list.  —  T…\n",
      "Motley Fool\n",
      "2 Top Cryptocurrencies to Buy for the Long Haul\n",
      "Cardano and Ripple look positioned for lasting success.\n",
      "Motley Fool\n",
      "2 Top Cryptocurrencies to Buy for the Long Haul\n",
      "Despite recent challenges, Ethereum and Cardano look poised to outperform over the long term.\n",
      "Motley Fool\n",
      "Cardano: The First Carbon-Negative Blockchain?\n",
      "Cardano is a fast-growing project, but could it actually be good for the environment?\n",
      "Motley Fool\n",
      "After the Crypto Market Crash, Can Cardano Reach $25 by 2025?\n",
      "Cardano is one of the most popular blockchain projects in the crypto industry.\n",
      "Motley Fool\n",
      "Better Cryptocurrency to Buy: Cardano vs. Solana\n",
      "Both of these blockchain projects have crypto investors buzzing with excitement.\n",
      "Motley Fool\n",
      "Is the Crypto Sell-Off Over? 3 Things to Do If There's More Pain in Store for 2022\n",
      "Bitcoin, Ethereum, Solana, and Cardano are all down big off their highs.\n",
      "Motley Fool\n",
      "Beyond Dogecoin -- These 3 Unique Cryptos Are Better Buys\n",
      "Bitcoin, Ethereum, and Cardano offer investors more than the crapshoot that is Dogecoin.\n",
      "Motley Fool\n",
      "Will Cardano Hit $3 in 2022?\n",
      "One big catalyst this year may help.\n",
      "The Times of India\n",
      "Top cryptocurrency prices today: Bitcoin, Ethereum slip; Cardano zooms 7%\n",
      "Barring Cardano and dollar-pegged Tether, all other eight out of top-10 digital tokens were trading lower during the early trade on Tuesday. Cardano zoomed over 7 per cent although Terra tanked over 10 per cent.\n",
      "Motley Fool\n",
      "3 Reasons to Fall in Love With Cardano\n",
      "This player is at the start of its growth story.\n"
     ]
    }
   ],
   "source": [
    "for article in range (len(Cardano_cryptocurrency_headlines['articles'])):\n",
    "    print(Cardano_cryptocurrency_headlines['articles'][article]['source']['name'])\n",
    "    print(Cardano_cryptocurrency_headlines['articles'][article]['title'])\n",
    "    print(Cardano_cryptocurrency_headlines['articles'][article]['description'])"
   ]
  },
  {
   "cell_type": "code",
   "execution_count": 190,
   "id": "c55f3bb7-e7b8-4665-856a-29fe35676896",
   "metadata": {},
   "outputs": [],
   "source": [
    "# Create a newsapi client\n",
    "newsapi = NewsApiClient(api_key=News_Api_Key)"
   ]
  },
  {
   "cell_type": "code",
   "execution_count": 191,
   "id": "8eb26157-7f16-493f-ac83-136e751472e7",
   "metadata": {},
   "outputs": [
    {
     "data": {
      "text/plain": [
       "{'status': 'ok',\n",
       " 'totalResults': 784,\n",
       " 'articles': [{'source': {'id': 'engadget', 'name': 'Engadget'},\n",
       "   'author': 'Igor Bonifacic',\n",
       "   'title': 'PlatinumGames’ long-awaited shoot ’em up ‘Sol Cresta’ arrives February 22nd',\n",
       "   'description': 'PlatinumGames will release Sol Cresta\\r\\n on February 22nd, the studio announced this weekend. The developer had hoped to have the shmup ready by the end of 2021, but made the last-minute decision to delay it to give its development team more time for polish. W…',\n",
       "   'url': 'https://www.engadget.com/sol-cresta-february-22-2022-205014127.html',\n",
       "   'urlToImage': 'https://s.yimg.com/os/creatr-uploaded-images/2022-01/71e6a790-7c8c-11ec-aadd-74afa6e55f31',\n",
       "   'publishedAt': '2022-01-23T20:50:14Z',\n",
       "   'content': 'PlatinumGames will release Sol Cresta\\r\\n on February 22nd, the studio announced this weekend. The developer had hoped to have the shmup ready by the end of 2021, but made the last-minute decision to d… [+614 chars]'},\n",
       "  {'source': {'id': None, 'name': 'New York Times'},\n",
       "   'author': 'John Freeman Gill',\n",
       "   'title': 'In the Bronx, a Push to Save Cass Gilbert’s Train Stations',\n",
       "   'description': 'Two of the stations designed by the famed architect more than 100 years ago for the old ‘Consolidated’ railroad have a chance to be transformed for new uses.',\n",
       "   'url': 'https://www.nytimes.com/2022/01/28/realestate/cass-gilbert-train-stations-bronx.html',\n",
       "   'urlToImage': 'https://static01.nyt.com/images/2022/01/30/realestate/28STREETSCAPES-slide-1HXA/28STREETSCAPES-slide-1HXA-facebookJumbo.jpg',\n",
       "   'publishedAt': '2022-01-28T10:00:36Z',\n",
       "   'content': 'The elegant, decaying station at Westchester Avenue and Sheridan Boulevard, cloaked in ivy that is either glorious or spooky, depending on the time of year and quantity of leaves, is rendered in the … [+2103 chars]'},\n",
       "  {'source': {'id': 'reuters', 'name': 'Reuters'},\n",
       "   'author': None,\n",
       "   'title': 'UK gets tough with Guy Hands, 25 years late - Reuters',\n",
       "   'description': 'The UK’s Ministry of Defence may be going to war with Guy Hands. The government wants to unpick a high-profile sale and leaseback of military housing. Hands, while at Nomura <a href=\"https://www.reuters.com/companies/8604.T\" target=\"_blank\">(8604.T)</a>, boug…',\n",
       "   'url': 'https://www.reuters.com/breakingviews/uk-gets-tough-with-guy-hands-25-years-late-2022-01-27/',\n",
       "   'urlToImage': 'https://www.reuters.com/resizer/6ZehevgORO3O5UnO2TYMAYedH40=/1200x628/smart/filters:quality(80)/cloudfront-us-east-2.images.arcpublishing.com/reuters/Q6CDIWQZOFK6RDJCT5EF33F7EE.jpg',\n",
       "   'publishedAt': '2022-01-27T15:44:00Z',\n",
       "   'content': 'LONDON, Jan 27 (Reuters Breakingviews) - The UKs Ministry of Defence may be going to war with Guy Hands. The government wants to unpick a high-profile sale and leaseback of military housing. Hands, w… [+2024 chars]'},\n",
       "  {'source': {'id': None, 'name': 'Gizmodo.com'},\n",
       "   'author': 'George Dvorsky',\n",
       "   'title': 'New NASA Image Shows Venus Glowing Like an ‘Iron Pulled From a Forge’',\n",
       "   'description': 'NASA’s Parker Solar Probe has taken unprecedented visible-light images of Venus’s nightside, revealing surface features that would otherwise be obscured by clouds.Read more...',\n",
       "   'url': 'https://gizmodo.com/new-nasa-image-shows-venus-glowing-like-an-iron-pulled-1848522010',\n",
       "   'urlToImage': 'https://i.kinja-img.com/gawker-media/image/upload/c_fill,f_auto,fl_progressive,g_center,h_675,pg_1,q_80,w_1200/fdcfedf8503dca8eef3bdccd9e1ef522.gif',\n",
       "   'publishedAt': '2022-02-11T16:48:00Z',\n",
       "   'content': 'NASAs Parker Solar Probe has taken unprecedented visible-light images of Venuss nightside, revealing surface features that would otherwise be obscured by clouds.\\r\\nThe new views were captured when the… [+2877 chars]'},\n",
       "  {'source': {'id': None, 'name': 'Gizmodo.com'},\n",
       "   'author': 'George Dvorsky',\n",
       "   'title': 'Colossal Iceberg Spilled 168 Billion Tons of Freshwater Near Wildlife-Rich Island',\n",
       "   'description': 'Iceberg A-68a—the sixth largest in recorded history—released a hideous amount of freshwater near an ecologically sensitive island, according to new research chronicling the berg’s life.Read more...',\n",
       "   'url': 'https://gizmodo.com/iceberg-a68a-south-georgia-island-1848393378',\n",
       "   'urlToImage': 'https://i.kinja-img.com/gawker-media/image/upload/c_fill,f_auto,fl_progressive,g_center,h_675,pg_1,q_80,w_1200/94632e32ac998103cf36cb6f9688158c.jpg',\n",
       "   'publishedAt': '2022-01-21T13:50:00Z',\n",
       "   'content': 'Iceberg A-68athe sixth largest in recorded historyreleased a hideous amount of freshwater near an ecologically sensitive island, according to new research chronicling the bergs life.\\r\\nIceberg A-68adi… [+4685 chars]'},\n",
       "  {'source': {'id': None, 'name': 'GameSpot'},\n",
       "   'author': 'S.E. Doster',\n",
       "   'title': 'How To Locate Perks In Terra Maledicta for CoD: Vanguard Zombies',\n",
       "   'description': \"Season 2 is live for Call of Duty: Vanguard, which introduces the new objective-based Zombies map Terra Maledicta with a starting hub located in Egypt's Eastern Desert. As always, perks are crucial to survival in Zombies. Here we guide you on how to locate ea…\",\n",
       "   'url': 'https://www.gamespot.com/articles/how-to-locate-perks-in-terra-maledicta-for-cod-vanguard-zombies/1100-6500666/',\n",
       "   'urlToImage': 'https://www.gamespot.com/a/uploads/screen_kubrick/1639/16394540/3940482-vgd-s2-announcement-024.jpg',\n",
       "   'publishedAt': '2022-02-14T23:30:00Z',\n",
       "   'content': \"Season 2 is live for Call of Duty: Vanguard, which introduces the new objective-based Zombies map Terra Maledicta with a starting hub located in Egypt's Eastern Desert. As always, perks are crucial t… [+2974 chars]\"},\n",
       "  {'source': {'id': None, 'name': 'GameSpot'},\n",
       "   'author': 'S.E. Doster',\n",
       "   'title': 'How To Complete The Terra Maledicta Main Easter Egg In CoD: Vanguard Zombies',\n",
       "   'description': 'Season 2 is live for Call of Duty: Vanguard, which introduces the new objective-based Zombies map Terra Maledicta set in Egypt\\'s Eastern Desert. This new starting \"Temple\" hub also serves as a continuation of Vanguard Zombies\\' ongoing narrative of the Vanguar…',\n",
       "   'url': 'https://www.gamespot.com/articles/how-to-complete-the-terra-maledicta-main-easter-egg-in-cod-vanguard-zombies/1100-6500667/',\n",
       "   'urlToImage': 'https://www.gamespot.com/a/uploads/screen_kubrick/1639/16394540/3940489-vgd-s2-announcement-028.jpg',\n",
       "   'publishedAt': '2022-02-14T23:51:00Z',\n",
       "   'content': 'Season 2 is live for Call of Duty: Vanguard, which introduces the new objective-based Zombies map Terra Maledicta set in Egypt\\'s Eastern Desert. This new starting \"Temple\" hub also serves as a contin… [+5020 chars]'},\n",
       "  {'source': {'id': None, 'name': 'GameSpot'},\n",
       "   'author': 'S.E. Doster',\n",
       "   'title': 'How To Find All Terra Maledicta Intel In Call Of Duty: Vanguard Zombies',\n",
       "   'description': \"Season 2 of Call of Duty: Vanguard introduces the new objective-based Zombies map Terra Maledicta. This map serves as a continuation of Vanguard Zombies' ongoing narrative with the operators helping Professor Krafft search for a way to stop Von List and Korti…\",\n",
       "   'url': 'https://www.gamespot.com/articles/how-to-find-all-terra-maledicta-intel-in-call-of-duty-vanguard-zombies/1100-6500762/',\n",
       "   'urlToImage': 'https://www.gamespot.com/a/uploads/screen_kubrick/1639/16394540/3941933-vgd-s2-announcement-024.jpg',\n",
       "   'publishedAt': '2022-02-16T18:23:00Z',\n",
       "   'content': \"Season 2 of Call of Duty: Vanguard introduces the new objective-based Zombies map Terra Maledicta. This map serves as a continuation of Vanguard Zombies' ongoing narrative with the operators helping … [+4615 chars]\"},\n",
       "  {'source': {'id': None, 'name': 'The Guardian'},\n",
       "   'author': 'Jasper Jolly',\n",
       "   'title': 'MoD given ultimatum to drop legal action against firm run by billionaire',\n",
       "   'description': 'Ministers have two weeks to accept one-off payment instead of taking over 38,000 military homes from Guy Hands’\\xa0AnningtonThe landlord run by the billionaire Guy Hands’ private equity firm has issued the government a two-week ultimatum to drop legal action to …',\n",
       "   'url': 'https://amp.theguardian.com/uk-news/2022/feb/02/mod-given-ultimatum-to-drop-legal-action-against-firm-run-by-billionaire',\n",
       "   'urlToImage': 'https://i.guim.co.uk/img/media/69bf9225af0d2f6a357199e2c10671865d055381/0_275_4000_2400/master/4000.jpg?width=1200&height=630&quality=85&auto=format&fit=crop&overlay-align=bottom%2Cleft&overlay-width=100p&overlay-base64=L2ltZy9zdGF0aWMvb3ZlcmxheXMvdGctZGVmYXVsdC5wbmc&enable=upscale&s=191854d7d5a5b1e97172635344a1a7d2',\n",
       "   'publishedAt': '2022-02-02T14:22:50Z',\n",
       "   'content': 'The landlord run by the billionaire Guy Hands private equity firm has issued the government a two-week ultimatum to drop legal action to take over 38,000 homes for military families and instead accep… [+3582 chars]'},\n",
       "  {'source': {'id': None, 'name': 'HYPEBEAST'},\n",
       "   'author': 'info@hypebeast.com (HYPEBEAST), HYPEBEAST',\n",
       "   'title': 'Drake Shares Campaign Video for the NOCTA x Nike Hot Step Air Terra',\n",
       "   'description': 'Building on the teasers he has already shared, Drake has now offered a campaign video for his NOCTA x Nike Hot Step Air Terra collaboration.Taking to Instagram, the Canadian artist posted a 27-second clip shot in Jamaica. In the video, a motorcycle crew is se…',\n",
       "   'url': 'https://hypebeast.com/2022/2/drake-nocta-nike-hot-step-air-terra-campaign-video',\n",
       "   'urlToImage': 'https://image-cdn.hypb.st/https%3A%2F%2Fhypebeast.com%2Fimage%2F2022%2F02%2Fdrake-nocta-nike-hot-step-air-terra-campaign-video-tw.jpg?w=960&cbr=1&q=90&fit=max',\n",
       "   'publishedAt': '2022-02-16T04:21:15Z',\n",
       "   'content': 'Building on the teasers he has already shared, Drake has now offered a campaign video for his NOCTA x Nike \\r\\nHot Step Air Terra collaboration.\\r\\nTaking to Instagram, the Canadian artist posted a 27-se… [+652 chars]'},\n",
       "  {'source': {'id': None, 'name': 'New York Times'},\n",
       "   'author': 'Nicholas Bakalar',\n",
       "   'title': 'A 1,500-Year-Old Riddle Solved: Yes, It Was a Terra-Cotta Porta-Potty',\n",
       "   'description': 'The proof was in the, er, concretion.',\n",
       "   'url': 'https://www.nytimes.com/2022/02/10/science/archaeology-rome-toilet.html',\n",
       "   'urlToImage': 'https://static01.nyt.com/images/2022/02/10/science/10SCI-PRIVY1/10SCI-PRIVY1-facebookJumbo.jpg',\n",
       "   'publishedAt': '2022-02-11T00:00:07Z',\n",
       "   'content': 'The thing that stood out in the paper is their method could be developed so that we could have a general method for everyone, said Karl J. Reinhard, a professor of environmental archaeology at the Un… [+1125 chars]'},\n",
       "  {'source': {'id': 'reuters', 'name': 'Reuters'},\n",
       "   'author': None,\n",
       "   'title': \"CRYPTOVERSE-After bitcoin 'winter', investors hunt risk in virtual worlds - Reuters\",\n",
       "   'description': 'As bitcoin drifts towards mainstream maturity in 2022, daring crypto investors are eyeing up new sources of explosive action: \"altcoins\" that power online games and worlds.',\n",
       "   'url': 'https://www.reuters.com/markets/europe/cryptoverse-after-bitcoin-winter-investors-hunt-risk-virtual-worlds-2022-02-08/',\n",
       "   'urlToImage': 'https://www.reuters.com/pf/resources/images/reuters/reuters-default.png?d=70',\n",
       "   'publishedAt': '2022-02-08T06:00:00Z',\n",
       "   'content': 'Feb 8 (Reuters) - As bitcoin drifts towards mainstream maturity in 2022, daring crypto investors are eyeing up new sources of explosive action: \"altcoins\" that power online games and worlds.\\r\\nBut, be… [+3923 chars]'},\n",
       "  {'source': {'id': 'reuters', 'name': 'Reuters'},\n",
       "   'author': None,\n",
       "   'title': 'Wall St Week Ahead Crypto investors face more uncertainty after rocky start to 2022 - Reuters',\n",
       "   'description': 'Investors are bracing for more gyrations in bitcoin and other cryptocurrencies, as worries over a hawkish Federal Reserve threaten to squelch risk appetite across markets.',\n",
       "   'url': 'https://www.reuters.com/business/finance/wall-st-week-ahead-crypto-investors-face-more-uncertainty-after-rocky-start-2022-2022-02-11/',\n",
       "   'urlToImage': 'https://www.reuters.com/resizer/o-neidYH62soGCDm3MOwoSkkRqc=/1200x628/smart/filters:quality(80)/cloudfront-us-east-2.images.arcpublishing.com/reuters/AOEOU7DFBRN5ZA32VLFEUPFGKY.jpg',\n",
       "   'publishedAt': '2022-02-11T20:11:00Z',\n",
       "   'content': 'NEW YORK, Feb 11 (Reuters) - Investors are bracing for more gyrations in bitcoin and other cryptocurrencies, as worries over a hawkish Federal Reserve threaten to squelch risk appetite across markets… [+5024 chars]'},\n",
       "  {'source': {'id': None, 'name': 'The Guardian'},\n",
       "   'author': 'Nils Pratley',\n",
       "   'title': 'The bill for Sunak’s intervention on household energy could be eye-watering | Nils Pratley',\n",
       "   'description': 'The chancellor is gambling that wholesale prices come down by the end of the year. What’s his plan B if they don’t?The advance version of Rishi Sunak’s grand bargain for the retail energy sector, to be presented in full on Thursday, sounds a reasonable fudge.…',\n",
       "   'url': 'https://amp.theguardian.com/business/nils-pratley-on-finance/2022/feb/02/rishi-sunak-household-energy-bill-rebates',\n",
       "   'urlToImage': 'https://i.guim.co.uk/img/media/d02f130f6b81997992ad5e35635ec32fcab4b3c3/0_62_4752_2851/master/4752.jpg?width=1200&height=630&quality=85&auto=format&fit=crop&overlay-align=bottom%2Cleft&overlay-width=100p&overlay-base64=L2ltZy9zdGF0aWMvb3ZlcmxheXMvdGctb3BpbmlvbnMucG5n&enable=upscale&s=3d2c2b85a6afb50d719c80c96095f2aa',\n",
       "   'publishedAt': '2022-02-02T19:16:52Z',\n",
       "   'content': 'The advance version of Rishi Sunaks grand bargain for the retail energy sector, to be presented in full on Thursday, sounds a reasonable fudge. All households will probably get a £200 rebate off thei… [+4354 chars]'},\n",
       "  {'source': {'id': 'techcrunch', 'name': 'TechCrunch'},\n",
       "   'author': 'Brian Heater',\n",
       "   'title': 'Electric Sheep raises $21.5M to make off-the-shelf lawnmowers autonomous',\n",
       "   'description': 'IRobot announced Terra three years ago this week.  After making some tough internal decisions to delay launch back in 2020, the robot mower is still MIA...',\n",
       "   'url': 'https://techcrunch.com/2022/01/25/electric-sheep-raises-21-5m-to-make-off-the-shelf-lawnmowers-autonomous/',\n",
       "   'urlToImage': 'https://s.yimg.com/ny/api/res/1.2/m6FNPV4xzSwUhgdxBLyXwg--/YXBwaWQ9aGlnaGxhbmRlcjt3PTEyMDA7aD02NzY-/https://s.yimg.com/uu/api/res/1.2/QMwY92qWct84j00X4VfdgA--~B/aD0yOTEyO3c9NTE2ODthcHBpZD15dGFjaHlvbg--/https://media.zenfs.com/en/techcrunch_350/0d67a9c222f0dc078314bc0355a52f91',\n",
       "   'publishedAt': '2022-01-25T16:48:30Z',\n",
       "   'content': 'IRobot announced Terra three years ago this week. After making some tough internal decisions to delay launch back in 2020, the robot mower is still MIA. For those with a lot of grass and far less tim… [+1606 chars]'},\n",
       "  {'source': {'id': None, 'name': 'Motley Fool'},\n",
       "   'author': 'newsfeedback@fool.com (Chris MacDonald)',\n",
       "   'title': 'Why Ethereum and Dogecoin Are Recovering, While Terra Plunged Today',\n",
       "   'description': \"It's a mixed bag in the crypto world today.\",\n",
       "   'url': 'https://www.fool.com/investing/2022/01/28/why-ethereum-and-dogecoin-are-recovering-while-ter/',\n",
       "   'urlToImage': 'https://g.foolcdn.com/editorial/images/663543/market-crash.jpg',\n",
       "   'publishedAt': '2022-01-28T18:26:05Z',\n",
       "   'content': 'What happened\\r\\nTop-10 cryptocurrencies\\xa0Ethereum\\xa0(CRYPTO:ETH),\\xa0Dogecoin\\xa0(CRYPTO:DOGE), and Terra\\xa0(CRYPTO:LUNA) have had very different days.\\r\\nEthereum and Dogecoin each traded down as of 12:10 p.m. ET… [+2437 chars]'},\n",
       "  {'source': {'id': None, 'name': 'HYPEBEAST'},\n",
       "   'author': 'info@hypebeast.com (HYPEBEAST), HYPEBEAST',\n",
       "   'title': \"Drake's NOCTA Line Started Off From an adidas Deal\",\n",
       "   'description': \"Jeremy Karl, the designer known for his work on Drake’s Nike Hot Step Air Terra, NOCTA and Arc’teryx System_A, revealed that The Boy's NOCTA line was originally meant for adidas.In a recent interview, Karl shared that current YEEZY CEO and Nomad and Goodfoot …\",\n",
       "   'url': 'https://hypebeast.com/2022/1/jeremy-karl-drake-nocta-line-started-off-from-adidas-deal',\n",
       "   'urlToImage': 'https://image-cdn.hypb.st/https%3A%2F%2Fhypebeast.com%2Fimage%2F2022%2F01%2Ftw-jeremy-karl-drake-nocta-line-started-off-from-adidas-deal.jpg?w=960&cbr=1&q=90&fit=max',\n",
       "   'publishedAt': '2022-02-01T03:35:33Z',\n",
       "   'content': 'Jeremy Karl, the designer known for his work on Drakes Nike Hot Step Air Terra, NOCTA and Arcteryx System_A, revealed that The Boy’s NOCTA line was originally meant for adidas\\r\\n.\\r\\nIn a recent intervi… [+1327 chars]'},\n",
       "  {'source': {'id': None, 'name': 'Rock Paper Shotgun'},\n",
       "   'author': 'Graham Smith',\n",
       "   'title': \"Final Fantasy VI's pixel remaster arrives on Steam on Feb 23rd\",\n",
       "   'description': \"I've written about a bunch of Final Fantasy's pixel remasters over the past year, and each time there are people in the comments saying that Final Fantasy VI is the best, they can't wait for Final Fantasy VI, why isn't Final Fantasy VI being remastered yet...…\",\n",
       "   'url': 'https://www.rockpapershotgun.com/final-fantasy-vis-pixel-remaster-arrives-on-steam-on-feb-23rd',\n",
       "   'urlToImage': 'https://assets2.rockpapershotgun.com/final-fantasy-6-pixel-remaster.png/BROK/thumbnail/1600x900/format/jpg/quality/80/final-fantasy-6-pixel-remaster.png',\n",
       "   'publishedAt': '2022-02-11T22:53:25Z',\n",
       "   'content': \"I've written about a bunch of Final Fantasy's pixel remasters over the past year, and each time there are people in the comments saying that Final Fantasy VI is the best, they can't wait for Final Fa… [+1511 chars]\"},\n",
       "  {'source': {'id': None, 'name': 'Phys.Org'},\n",
       "   'author': 'Science X staff',\n",
       "   'title': \"The abyssal world: The last terra incognita of the Earth's surface\",\n",
       "   'description': 'The deep-ocean floor is the least explored ecosystem on the planet, despite covering more than 60 percent of the Earth surface. Largely unknown life in abyssal sediments, from benthic animals to microbes, helps to recycle and/or sequester the sinking (in)orga…',\n",
       "   'url': 'https://phys.org/news/2022-02-abyssal-world-terra-incognita-earth.html',\n",
       "   'urlToImage': 'https://scx2.b-cdn.net/gfx/news/hires/2022/the-abyssal-world-the.jpg',\n",
       "   'publishedAt': '2022-02-04T19:00:02Z',\n",
       "   'content': 'The deep-ocean floor is the least explored ecosystem on the planet, despite covering more than 60 percent of the Earth surface. Largely unknown life in abyssal sediments, from benthic animals to micr… [+5398 chars]'},\n",
       "  {'source': {'id': None, 'name': 'Theonion.com'},\n",
       "   'author': 'Danny Mulligan',\n",
       "   'title': 'Rock & Roll Hall Of Fame Under Pressure To Return Looted Ancient Mesopotamian Stratocaster',\n",
       "   'description': 'CLEVELAND—With critics calling the instrument an essential part of Sumeria’s history of killer riffs and hot licks, the Rock & Roll Hall of Fame came under pressure Friday to return to Iraq an ancient Mesopotamian Stratocaster that was plundered by British ar…',\n",
       "   'url': 'https://www.theonion.com/rock-roll-hall-of-fame-under-pressure-to-return-loote-1848385651',\n",
       "   'urlToImage': 'https://i.kinja-img.com/gawker-media/image/upload/c_fill,f_auto,fl_progressive,g_center,h_675,pg_1,q_80,w_1200/db75fb23ea512ca3a00f8f6d5e4b5e64.jpg',\n",
       "   'publishedAt': '2022-01-21T15:05:00Z',\n",
       "   'content': 'CLEVELANDWith critics calling the instrument an essential part of Sumerias history of killer riffs and hot licks, the Rock &amp; Roll Hall of Fame came under pressure Friday to return to Iraq an anci… [+1111 chars]'}]}"
      ]
     },
     "execution_count": 191,
     "metadata": {},
     "output_type": "execute_result"
    }
   ],
   "source": [
    "# Fetch top news articles about Terra Cryptocurrency\n",
    "Terra_cryptocurrency_headlines = newsapi.get_everything(\n",
    "    q=\"Terra\", language=\"en\", sort_by=\"relevancy\"\n",
    ")\n",
    "Terra_cryptocurrency_headlines"
   ]
  },
  {
   "cell_type": "code",
   "execution_count": 192,
   "id": "f9f35337-a1f5-4fa2-baf9-8152fdc756e3",
   "metadata": {},
   "outputs": [
    {
     "data": {
      "text/plain": [
       "'Engadget'"
      ]
     },
     "execution_count": 192,
     "metadata": {},
     "output_type": "execute_result"
    }
   ],
   "source": [
    "Terra_cryptocurrency_headlines['articles'][0]['source']['name']"
   ]
  },
  {
   "cell_type": "code",
   "execution_count": 193,
   "id": "17287996-e45c-454f-b1fb-0972c045898d",
   "metadata": {},
   "outputs": [
    {
     "data": {
      "text/plain": [
       "'New York Times'"
      ]
     },
     "execution_count": 193,
     "metadata": {},
     "output_type": "execute_result"
    }
   ],
   "source": [
    "Terra_cryptocurrency_headlines['articles'][1]['source']['name']"
   ]
  },
  {
   "cell_type": "code",
   "execution_count": 194,
   "id": "89ea9414-1e7a-4c4e-8f7f-605f2abab9bc",
   "metadata": {},
   "outputs": [
    {
     "data": {
      "text/plain": [
       "20"
      ]
     },
     "execution_count": 194,
     "metadata": {},
     "output_type": "execute_result"
    }
   ],
   "source": [
    "len(Terra_cryptocurrency_headlines['articles'])"
   ]
  },
  {
   "cell_type": "code",
   "execution_count": 196,
   "id": "dafc4c12-7e4b-4415-a9df-880cb92b0922",
   "metadata": {},
   "outputs": [
    {
     "data": {
      "text/plain": [
       "'In the Bronx, a Push to Save Cass Gilbert’s Train Stations'"
      ]
     },
     "execution_count": 196,
     "metadata": {},
     "output_type": "execute_result"
    }
   ],
   "source": [
    "Terra_cryptocurrency_headlines['articles'][1]['title']"
   ]
  },
  {
   "cell_type": "code",
   "execution_count": 198,
   "id": "336bdab2-148a-4d1e-91dc-a8a702698a48",
   "metadata": {},
   "outputs": [
    {
     "name": "stdout",
     "output_type": "stream",
     "text": [
      "Engadget\n",
      "PlatinumGames’ long-awaited shoot ’em up ‘Sol Cresta’ arrives February 22nd\n",
      "PlatinumGames will release Sol Cresta\n",
      " on February 22nd, the studio announced this weekend. The developer had hoped to have the shmup ready by the end of 2021, but made the last-minute decision to delay it to give its development team more time for polish. W…\n",
      "New York Times\n",
      "In the Bronx, a Push to Save Cass Gilbert’s Train Stations\n",
      "Two of the stations designed by the famed architect more than 100 years ago for the old ‘Consolidated’ railroad have a chance to be transformed for new uses.\n",
      "Reuters\n",
      "UK gets tough with Guy Hands, 25 years late - Reuters\n",
      "The UK’s Ministry of Defence may be going to war with Guy Hands. The government wants to unpick a high-profile sale and leaseback of military housing. Hands, while at Nomura <a href=\"https://www.reuters.com/companies/8604.T\" target=\"_blank\">(8604.T)</a>, boug…\n",
      "Gizmodo.com\n",
      "New NASA Image Shows Venus Glowing Like an ‘Iron Pulled From a Forge’\n",
      "NASA’s Parker Solar Probe has taken unprecedented visible-light images of Venus’s nightside, revealing surface features that would otherwise be obscured by clouds.Read more...\n",
      "Gizmodo.com\n",
      "Colossal Iceberg Spilled 168 Billion Tons of Freshwater Near Wildlife-Rich Island\n",
      "Iceberg A-68a—the sixth largest in recorded history—released a hideous amount of freshwater near an ecologically sensitive island, according to new research chronicling the berg’s life.Read more...\n",
      "GameSpot\n",
      "How To Locate Perks In Terra Maledicta for CoD: Vanguard Zombies\n",
      "Season 2 is live for Call of Duty: Vanguard, which introduces the new objective-based Zombies map Terra Maledicta with a starting hub located in Egypt's Eastern Desert. As always, perks are crucial to survival in Zombies. Here we guide you on how to locate ea…\n",
      "GameSpot\n",
      "How To Complete The Terra Maledicta Main Easter Egg In CoD: Vanguard Zombies\n",
      "Season 2 is live for Call of Duty: Vanguard, which introduces the new objective-based Zombies map Terra Maledicta set in Egypt's Eastern Desert. This new starting \"Temple\" hub also serves as a continuation of Vanguard Zombies' ongoing narrative of the Vanguar…\n",
      "GameSpot\n",
      "How To Find All Terra Maledicta Intel In Call Of Duty: Vanguard Zombies\n",
      "Season 2 of Call of Duty: Vanguard introduces the new objective-based Zombies map Terra Maledicta. This map serves as a continuation of Vanguard Zombies' ongoing narrative with the operators helping Professor Krafft search for a way to stop Von List and Korti…\n",
      "The Guardian\n",
      "MoD given ultimatum to drop legal action against firm run by billionaire\n",
      "Ministers have two weeks to accept one-off payment instead of taking over 38,000 military homes from Guy Hands’ AnningtonThe landlord run by the billionaire Guy Hands’ private equity firm has issued the government a two-week ultimatum to drop legal action to …\n",
      "HYPEBEAST\n",
      "Drake Shares Campaign Video for the NOCTA x Nike Hot Step Air Terra\n",
      "Building on the teasers he has already shared, Drake has now offered a campaign video for his NOCTA x Nike Hot Step Air Terra collaboration.Taking to Instagram, the Canadian artist posted a 27-second clip shot in Jamaica. In the video, a motorcycle crew is se…\n",
      "New York Times\n",
      "A 1,500-Year-Old Riddle Solved: Yes, It Was a Terra-Cotta Porta-Potty\n",
      "The proof was in the, er, concretion.\n",
      "Reuters\n",
      "CRYPTOVERSE-After bitcoin 'winter', investors hunt risk in virtual worlds - Reuters\n",
      "As bitcoin drifts towards mainstream maturity in 2022, daring crypto investors are eyeing up new sources of explosive action: \"altcoins\" that power online games and worlds.\n",
      "Reuters\n",
      "Wall St Week Ahead Crypto investors face more uncertainty after rocky start to 2022 - Reuters\n",
      "Investors are bracing for more gyrations in bitcoin and other cryptocurrencies, as worries over a hawkish Federal Reserve threaten to squelch risk appetite across markets.\n",
      "The Guardian\n",
      "The bill for Sunak’s intervention on household energy could be eye-watering | Nils Pratley\n",
      "The chancellor is gambling that wholesale prices come down by the end of the year. What’s his plan B if they don’t?The advance version of Rishi Sunak’s grand bargain for the retail energy sector, to be presented in full on Thursday, sounds a reasonable fudge.…\n",
      "TechCrunch\n",
      "Electric Sheep raises $21.5M to make off-the-shelf lawnmowers autonomous\n",
      "IRobot announced Terra three years ago this week.  After making some tough internal decisions to delay launch back in 2020, the robot mower is still MIA...\n",
      "Motley Fool\n",
      "Why Ethereum and Dogecoin Are Recovering, While Terra Plunged Today\n",
      "It's a mixed bag in the crypto world today.\n",
      "HYPEBEAST\n",
      "Drake's NOCTA Line Started Off From an adidas Deal\n",
      "Jeremy Karl, the designer known for his work on Drake’s Nike Hot Step Air Terra, NOCTA and Arc’teryx System_A, revealed that The Boy's NOCTA line was originally meant for adidas.In a recent interview, Karl shared that current YEEZY CEO and Nomad and Goodfoot …\n",
      "Rock Paper Shotgun\n",
      "Final Fantasy VI's pixel remaster arrives on Steam on Feb 23rd\n",
      "I've written about a bunch of Final Fantasy's pixel remasters over the past year, and each time there are people in the comments saying that Final Fantasy VI is the best, they can't wait for Final Fantasy VI, why isn't Final Fantasy VI being remastered yet...…\n",
      "Phys.Org\n",
      "The abyssal world: The last terra incognita of the Earth's surface\n",
      "The deep-ocean floor is the least explored ecosystem on the planet, despite covering more than 60 percent of the Earth surface. Largely unknown life in abyssal sediments, from benthic animals to microbes, helps to recycle and/or sequester the sinking (in)orga…\n",
      "Theonion.com\n",
      "Rock & Roll Hall Of Fame Under Pressure To Return Looted Ancient Mesopotamian Stratocaster\n",
      "CLEVELAND—With critics calling the instrument an essential part of Sumeria’s history of killer riffs and hot licks, the Rock & Roll Hall of Fame came under pressure Friday to return to Iraq an ancient Mesopotamian Stratocaster that was plundered by British ar…\n"
     ]
    }
   ],
   "source": [
    "for article in range (len(Terra_cryptocurrency_headlines['articles'])):\n",
    "    print(Terra_cryptocurrency_headlines['articles'][article]['source']['name'])\n",
    "    print(Terra_cryptocurrency_headlines['articles'][article]['title'])\n",
    "    print(Terra_cryptocurrency_headlines['articles'][article]['description'])"
   ]
  },
  {
   "cell_type": "code",
   "execution_count": 175,
   "id": "9b93c6f2-af6d-46cc-a1a7-8d01c613e410",
   "metadata": {},
   "outputs": [],
   "source": [
    "# Create a newsapi client\n",
    "newsapi = NewsApiClient(api_key=News_Api_Key)"
   ]
  },
  {
   "cell_type": "code",
   "execution_count": 176,
   "id": "f97eaf52-c54e-4816-a49f-1fe289686fb5",
   "metadata": {},
   "outputs": [
    {
     "data": {
      "text/plain": [
       "{'status': 'ok',\n",
       " 'totalResults': 264,\n",
       " 'articles': [{'source': {'id': 'reuters', 'name': 'Reuters'},\n",
       "   'author': None,\n",
       "   'title': 'CRYPTOVERSE-Bitcoin squeezes smaller rivals to its crown - Reuters',\n",
       "   'description': 'Bitcoin is beginning to reassert its dominance over challengers to its cryptocurrency crown.',\n",
       "   'url': 'https://www.reuters.com/markets/europe/cryptoverse-bitcoin-squeezes-smaller-rivals-its-crown-2022-02-01/',\n",
       "   'urlToImage': 'https://www.reuters.com/resizer/trzf0WaGaNyLC7bG_gRXhD2h0Ag=/1200x628/smart/filters:quality(80)/cloudfront-us-east-2.images.arcpublishing.com/reuters/SLSYKLM3IJPZNNH5EMCYLZA2F4.jpg',\n",
       "   'publishedAt': '2022-02-01T06:00:00Z',\n",
       "   'content': 'Feb 1 (Reuters) - Bitcoin is beginning to reassert its dominance over challengers to its cryptocurrency crown.\\r\\nThe original digital coin was assailed by thousands of new \"altcoin\" competitors in 202… [+3972 chars]'},\n",
       "  {'source': {'id': 'reuters', 'name': 'Reuters'},\n",
       "   'author': None,\n",
       "   'title': \"CRYPTOVERSE-After bitcoin 'winter', investors hunt risk in virtual worlds - Reuters\",\n",
       "   'description': 'As bitcoin drifts towards mainstream maturity in 2022, daring crypto investors are eyeing up new sources of explosive action: \"altcoins\" that power online games and worlds.',\n",
       "   'url': 'https://www.reuters.com/markets/europe/cryptoverse-after-bitcoin-winter-investors-hunt-risk-virtual-worlds-2022-02-08/',\n",
       "   'urlToImage': 'https://www.reuters.com/pf/resources/images/reuters/reuters-default.png?d=70',\n",
       "   'publishedAt': '2022-02-08T06:00:00Z',\n",
       "   'content': 'Feb 8 (Reuters) - As bitcoin drifts towards mainstream maturity in 2022, daring crypto investors are eyeing up new sources of explosive action: \"altcoins\" that power online games and worlds.\\r\\nBut, be… [+3923 chars]'},\n",
       "  {'source': {'id': 'reuters', 'name': 'Reuters'},\n",
       "   'author': None,\n",
       "   'title': 'Wall St Week Ahead Crypto investors face more uncertainty after rocky start to 2022 - Reuters',\n",
       "   'description': 'Investors are bracing for more gyrations in bitcoin and other cryptocurrencies, as worries over a hawkish Federal Reserve threaten to squelch risk appetite across markets.',\n",
       "   'url': 'https://www.reuters.com/business/finance/wall-st-week-ahead-crypto-investors-face-more-uncertainty-after-rocky-start-2022-2022-02-11/',\n",
       "   'urlToImage': 'https://www.reuters.com/resizer/o-neidYH62soGCDm3MOwoSkkRqc=/1200x628/smart/filters:quality(80)/cloudfront-us-east-2.images.arcpublishing.com/reuters/AOEOU7DFBRN5ZA32VLFEUPFGKY.jpg',\n",
       "   'publishedAt': '2022-02-11T20:11:00Z',\n",
       "   'content': 'NEW YORK, Feb 11 (Reuters) - Investors are bracing for more gyrations in bitcoin and other cryptocurrencies, as worries over a hawkish Federal Reserve threaten to squelch risk appetite across markets… [+5024 chars]'},\n",
       "  {'source': {'id': None, 'name': 'Motley Fool'},\n",
       "   'author': 'newsfeedback@fool.com (Will Ebiefung)',\n",
       "   'title': '2 Top Cryptocurrencies To Buy and Hold Forever',\n",
       "   'description': 'Ethereum and Polkadot have the foundation for lasting success.',\n",
       "   'url': 'https://www.fool.com/investing/2022/02/10/2-top-cryptocurrencies-to-buy-and-hold-forever/',\n",
       "   'urlToImage': 'https://g.foolcdn.com/editorial/images/664835/gettyimages-157726654_yPu6QiL.jpg',\n",
       "   'publishedAt': '2022-02-10T13:45:00Z',\n",
       "   'content': \"Cryptocurrency prices have been off to a rough start in 2022, with the total market's value falling 14% to $1.9 trillion year to date. But investors should keep a long-term perspective because crypto… [+3619 chars]\"},\n",
       "  {'source': {'id': None, 'name': 'Motley Fool'},\n",
       "   'author': 'newsfeedback@fool.com (Travis Hoium)',\n",
       "   'title': 'Why Polkadot, Crypto.com, and Avalanche Jumped Today',\n",
       "   'description': 'Is this a bounce worth believing in?',\n",
       "   'url': 'https://www.fool.com/investing/2022/01/25/why-polkadot-cryptocom-and-avalanche-jumped-today/',\n",
       "   'urlToImage': 'https://g.foolcdn.com/editorial/images/662871/cryptocurrency-image.jpg',\n",
       "   'publishedAt': '2022-01-25T20:37:56Z',\n",
       "   'content': 'What happened\\xa0\\r\\nThe selling that caused cryptocurrencies to plummet for most of the last week appears to be turning a corner. Most cryptocurrencies are up significantly on Tuesday, with many rising b… [+2962 chars]'},\n",
       "  {'source': {'id': None, 'name': 'Motley Fool'},\n",
       "   'author': 'newsfeedback@fool.com (Travis Hoium)',\n",
       "   'title': 'Why Dogecoin, Polkadot, and The Sandbox All Jumped Friday',\n",
       "   'description': 'There could be good news from Congress on the horizon.',\n",
       "   'url': 'https://www.fool.com/investing/2022/02/04/why-dogecoin-polkadot-and-the-sandbox-all-jumped-f/',\n",
       "   'urlToImage': 'https://g.foolcdn.com/editorial/images/664764/cryptocurrency-image.jpg',\n",
       "   'publishedAt': '2022-02-04T22:08:31Z',\n",
       "   'content': \"What happened\\xa0\\r\\nCryptocurrencies are ending the week on an upbeat note, with many up by double-digit percentages as of mid-afternoon on Friday. Some of those gains come alongside the stock market's r… [+2972 chars]\"},\n",
       "  {'source': {'id': None, 'name': 'Motley Fool'},\n",
       "   'author': 'newsfeedback@fool.com (Travis Hoium)',\n",
       "   'title': 'Why Solana, Cardano, Polkadot, and Dogecoin All Plunged Today',\n",
       "   'description': 'The market has sold off crypto across the board on Friday.',\n",
       "   'url': 'https://www.fool.com/investing/2022/01/21/why-solana-cardano-polkadot-and-dogecoin-all-plung/',\n",
       "   'urlToImage': 'https://g.foolcdn.com/editorial/images/662361/person-watching-market-crash.jpg',\n",
       "   'publishedAt': '2022-01-21T18:12:46Z',\n",
       "   'content': \"What happened\\xa0\\r\\nThe cryptocurrency industry is taking a hard hit in trading on Friday, and there doesn't seem to be any end in sight to the sell-off. Every major cryptocurrency has been down double d… [+2396 chars]\"},\n",
       "  {'source': {'id': None, 'name': 'Motley Fool'},\n",
       "   'author': 'newsfeedback@fool.com (Travis Hoium)',\n",
       "   'title': 'Why Polkadot, Solana, Fantom, and Near All Dropped on Tuesday',\n",
       "   'description': 'Despite some good news, values were falling today.',\n",
       "   'url': 'https://www.fool.com/investing/2022/01/18/why-polkadot-solana-fantom-and-near-all-dropped-on/',\n",
       "   'urlToImage': 'https://g.foolcdn.com/editorial/images/661819/currency-and-crypto-digitization.jpg',\n",
       "   'publishedAt': '2022-01-18T21:44:34Z',\n",
       "   'content': 'What happened\\xa0\\r\\nCryptocurrencies have had a tough start to the week with some falling double digits today. The biggest cryptocurrencies are down slightly, but smaller coins, known as altcoins, are ma… [+2438 chars]'},\n",
       "  {'source': {'id': None, 'name': 'Motley Fool'},\n",
       "   'author': 'newsfeedback@fool.com (Chris Neiger)',\n",
       "   'title': 'Why Polkadot, Crypto.com Coin, and Silvergate Capital Jumped Today',\n",
       "   'description': 'Investors were coming back to the crypto market today, thanks to some positive news.',\n",
       "   'url': 'https://www.fool.com/investing/2022/02/07/why-polkadot-cryptocom-coin-and-silvergate-capital/',\n",
       "   'urlToImage': 'https://g.foolcdn.com/editorial/images/665035/gettyimages-1269256867.jpg',\n",
       "   'publishedAt': '2022-02-07T21:36:48Z',\n",
       "   'content': 'What happened\\r\\nThe cryptocurrency market was experiencing gains today after the price of Bitcoin spiked 6.1% over the past 24 hours.\\xa0\\r\\nThat jump helped push Polkadot(CRYPTO:DOT) up 6%; Crypto.com Coi… [+2705 chars]'},\n",
       "  {'source': {'id': None, 'name': 'Motley Fool'},\n",
       "   'author': 'newsfeedback@fool.com (Travis Hoium)',\n",
       "   'title': 'Why Bitcoin, Ethereum, Polkadot, and Solana Jumped This Weekend',\n",
       "   'description': 'Some bullish news from the market and Washington D.C. is helping crypto values this week.',\n",
       "   'url': 'https://www.fool.com/investing/2022/02/05/why-bitcoin-ethereum-polkadot-and-solana-jumped/',\n",
       "   'urlToImage': 'https://g.foolcdn.com/editorial/images/664855/rocket-chart.jpg',\n",
       "   'publishedAt': '2022-02-05T20:55:45Z',\n",
       "   'content': 'What happened\\xa0\\r\\nThe cryptocurrency market continued its volatility this week, but for the time being it has been working for investors. The value of many cryptocurrencies jumped double-digits this we… [+2735 chars]'},\n",
       "  {'source': {'id': None, 'name': 'Motley Fool'},\n",
       "   'author': 'newsfeedback@fool.com (Travis Hoium)',\n",
       "   'title': 'Why Polkadot, Chainlink, and The Sandbox Jumped on Tuesday',\n",
       "   'description': 'Big institutions are betting big on the future of the metaverse.',\n",
       "   'url': 'https://www.fool.com/investing/2022/02/15/why-polkadot-chainlink-and-the-sandbox-jumped-on-t/',\n",
       "   'urlToImage': 'https://g.foolcdn.com/editorial/images/666259/crypto-trading-on-tablet.jpg',\n",
       "   'publishedAt': '2022-02-15T21:28:00Z',\n",
       "   'content': 'What happened\\xa0\\r\\nInvestors are pouring back into stocks and cryptocurrencies on Tuesday after Russia said it was pulling troops back from the Ukraine boarder and resuming talks with European leaders. … [+2409 chars]'},\n",
       "  {'source': {'id': None, 'name': 'Motley Fool'},\n",
       "   'author': 'newsfeedback@fool.com (Adria Cimino)',\n",
       "   'title': 'Missed Out on Solana? Buy This Cryptocurrency Now',\n",
       "   'description': 'More and more developers are flocking to this blockchain.',\n",
       "   'url': 'https://www.fool.com/investing/2022/01/29/missed-out-on-solana-buy-this-cryptocurrency-now/',\n",
       "   'urlToImage': 'https://g.foolcdn.com/editorial/images/663239/gettyimages-638638994.jpg',\n",
       "   'publishedAt': '2022-01-29T11:00:00Z',\n",
       "   'content': \"Hot cryptocurrency Solana soared more than 11,000% last year. So, you might be hesitating to invest in a player that's made such great gains. But with thousands of cryptocurrencies out there, you can… [+3199 chars]\"},\n",
       "  {'source': {'id': None, 'name': 'Motley Fool'},\n",
       "   'author': 'newsfeedback@fool.com (Trevor Jennewine)',\n",
       "   'title': 'My Top Cryptocurrency to Buy and Hold Right Now',\n",
       "   'description': 'This cryptocurrency could be bigger than Ethereum a decade from now.',\n",
       "   'url': 'https://www.fool.com/investing/2022/02/08/my-top-cryptocurrency-to-buy-and-hold-right-now/',\n",
       "   'urlToImage': 'https://g.foolcdn.com/editorial/images/664454/investor-27.jpg',\n",
       "   'publishedAt': '2022-02-08T13:45:00Z',\n",
       "   'content': 'In 2015, Ethereum became the first programmable blockchain, a decentralized platform on which developers could build self-executing computer programs known as smart contracts. That technology has sin… [+5149 chars]'},\n",
       "  {'source': {'id': None, 'name': 'Motley Fool'},\n",
       "   'author': 'newsfeedback@fool.com (Travis Hoium)',\n",
       "   'title': 'My Top 3 Cryptocurrencies to Buy Right Now',\n",
       "   'description': 'Development activity is growing, and these cryptocurrencies are leading the way.',\n",
       "   'url': 'https://www.fool.com/investing/2022/02/15/my-top-3-cryptocurrencies-to-buy-right-now/',\n",
       "   'urlToImage': 'https://g.foolcdn.com/editorial/images/663418/currency-and-crypto-digitization.jpg',\n",
       "   'publishedAt': '2022-02-15T11:50:00Z',\n",
       "   'content': 'As the cryptocurrency market continues its volatility in 2022, some themes are beginning to emerge. One is that developers are taking the opportunity extremely seriously, building some incredible uti… [+3858 chars]'},\n",
       "  {'source': {'id': None, 'name': 'Motley Fool'},\n",
       "   'author': 'newsfeedback@fool.com (Trevor Jennewine)',\n",
       "   'title': '2 Top Cryptocurrencies to Buy and Hold in 2022 (and Beyond)',\n",
       "   'description': 'These beaten-down digital assets could be ready for bull runs this year.',\n",
       "   'url': 'https://www.fool.com/investing/2022/02/03/2-top-cryptocurrencies-to-buy-and-hold-in-2022/',\n",
       "   'urlToImage': 'https://g.foolcdn.com/editorial/images/663702/investor-39.jpg',\n",
       "   'publishedAt': '2022-02-03T12:15:00Z',\n",
       "   'content': 'Currently, the crypto market is worth a collective $1.7 trillion. While impressive, that figure is actually down 43% from its high of $3 trillion in November 2021. In other words, the market has lost… [+5230 chars]'},\n",
       "  {'source': {'id': 'the-times-of-india', 'name': 'The Times of India'},\n",
       "   'author': 'ET CONTRIBUTORS',\n",
       "   'title': 'Crypto week at a glance: Deep correction in digital cart spooks investors',\n",
       "   'description': 'In terms of price movement, all of the top 50 cryptocurrencies corrected quite a bit. Near Protocol, Solana, Polkadot, Shiba Inu had a sizable decline over the previous week.',\n",
       "   'url': 'https://economictimes.indiatimes.com/markets/cryptocurrency/crypto-week-at-a-glance-deep-correction-in-digital-cart-spooks-investors/articleshow/89075781.cms',\n",
       "   'urlToImage': 'https://img.etimg.com/thumb/msid-89077513,width-1070,height-580,imgsize-174100,overlay-etmarkets/photo.jpg',\n",
       "   'publishedAt': '2022-01-23T14:05:06Z',\n",
       "   'content': 'The cryptocurrency market is known to go through volatile cycles of correction. This past week was one such deep correction with double-digit declines. From a technical perspective, the cryptocurrenc… [+3504 chars]'},\n",
       "  {'source': {'id': None, 'name': 'Motley Fool'},\n",
       "   'author': 'newsfeedback@fool.com (Travis Hoium)',\n",
       "   'title': 'Why Polkadot, XRP, Crypto.com Coin, and Theta Network Dropped on Monday',\n",
       "   'description': 'Values dropped late Sunday but have recovered sharply on Monday morning.',\n",
       "   'url': 'https://www.fool.com/investing/2022/01/31/why-polkadot-xrp-cryptocom-coin-and-theta-network/',\n",
       "   'urlToImage': 'https://g.foolcdn.com/editorial/images/663805/crypto-trading-on-tablet.jpg',\n",
       "   'publishedAt': '2022-01-31T19:55:43Z',\n",
       "   'content': \"What happened\\xa0\\r\\nMonday was a bit of a strange trading day for cryptocurrencies as values dropped most of the day Sunday and then bounced back on Monday morning. So, depending on what time you're look… [+2844 chars]\"},\n",
       "  {'source': {'id': None, 'name': 'Motley Fool'},\n",
       "   'author': 'newsfeedback@fool.com (Travis Hoium)',\n",
       "   'title': \"Saturday's Crypto Meltdown: Why Some Cryptocurrencies Are Down Over 25% Today\",\n",
       "   'description': \"Friday's selling got worse on Saturday morning.\",\n",
       "   'url': 'https://www.fool.com/investing/2022/01/22/saturday-crypto-meltdown/',\n",
       "   'urlToImage': 'https://g.foolcdn.com/editorial/images/662517/bitcoin-falling-apart.jpg',\n",
       "   'publishedAt': '2022-01-22T19:33:33Z',\n",
       "   'content': \"Panic sets in\\r\\nIf you thought\\xa0Friday's crypto sell-off was intense then you'll be shocked to see the state of trading on Saturday. Many cryptocurrencies were down by another 25% with some falling 30%… [+3293 chars]\"},\n",
       "  {'source': {'id': None, 'name': 'Forbes'},\n",
       "   'author': 'Kenneth Rapoza, Senior Contributor, \\n Kenneth Rapoza, Senior Contributor\\n https://www.forbes.com/sites/kenrapoza/',\n",
       "   'title': 'The Rise Of The “New Blockchains”. Where Are Investors And Developers Turning?',\n",
       "   'description': \"Don't follow the money. Follow the developers. Here are the main platforms they are building on other than Ethereum.\",\n",
       "   'url': 'https://www.forbes.com/sites/kenrapoza/2022/01/17/the-rise-of-the-new-blockchains-where-are-investors-and-developers-turning/',\n",
       "   'urlToImage': 'https://thumbor.forbes.com/thumbor/fit-in/1200x0/filters%3Aformat%28jpg%29/https%3A%2F%2Fspecials-images.forbesimg.com%2Fimageserve%2F61e577acf8f72b7a02b0f30d%2F0x0.jpg',\n",
       "   'publishedAt': '2022-01-17T14:10:33Z',\n",
       "   'content': 'The blockchain universe is expanding. Investors need to follow the developers to find the true ... [+] Ethereum alts. \\r\\nKMR Images\\r\\nEthereum (ETH) used to be the end-all be-all of blockchains for dev… [+7278 chars]'},\n",
       "  {'source': {'id': None, 'name': 'Forbes'},\n",
       "   'author': 'Clem Chambers, Senior Contributor, \\n Clem Chambers, Senior Contributor\\n https://www.forbes.com/sites/investor/people/clem/',\n",
       "   'title': 'Ethereum, Cardano, Polygon, Solana, Avalanche And Polkadot Deathmatch. Who Wins, Who Dies?',\n",
       "   'description': 'When you click on a DeFi project and it tells you it needs $200 of Ethereum to pay for the transaction, the dream of fast cheap transactions from crypto are shown to be a lie, at least for now. Enter the competitor chains.',\n",
       "   'url': 'https://www.forbes.com/sites/investor/2022/01/28/ethereum-cardano-polygon-solana-avalanche-and-polkadot-deathmatch-who-wins-who-dies/',\n",
       "   'urlToImage': 'https://imageio.forbes.com/specials-images/imageserve/61f3fe7a1b5ce55ec20b752d/0x0.jpg?format=jpg&width=1200&fit=bounds',\n",
       "   'publishedAt': '2022-01-28T15:39:06Z',\n",
       "   'content': 'Clash of the tokens\\r\\ngetty\\r\\nWhen you click on a DeFi project and it tells you it needs $200 of ethereum to pay for the transaction, the dream of fast cheap transactions from crypto are shown to be a … [+3856 chars]'}]}"
      ]
     },
     "execution_count": 176,
     "metadata": {},
     "output_type": "execute_result"
    }
   ],
   "source": [
    "# Fetch top news articles about Polkadot Cryptocurrency\n",
    "Polkadot_cryptocurrency_headlines = newsapi.get_everything(\n",
    "    q=\"Polkadot\", language=\"en\", sort_by=\"relevancy\"\n",
    ")\n",
    "Polkadot_cryptocurrency_headlines"
   ]
  },
  {
   "cell_type": "code",
   "execution_count": 102,
   "id": "d0839474-ee2f-40b6-86af-cca2a835128c",
   "metadata": {},
   "outputs": [
    {
     "data": {
      "text/plain": [
       "'Reuters'"
      ]
     },
     "execution_count": 102,
     "metadata": {},
     "output_type": "execute_result"
    }
   ],
   "source": [
    "Polkadot_cryptocurrency_headlines['articles'][0]['source']['name']"
   ]
  },
  {
   "cell_type": "code",
   "execution_count": 103,
   "id": "4bac33e6-8368-4974-97ca-f70192fa40b9",
   "metadata": {},
   "outputs": [
    {
     "data": {
      "text/plain": [
       "'Reuters'"
      ]
     },
     "execution_count": 103,
     "metadata": {},
     "output_type": "execute_result"
    }
   ],
   "source": [
    "Polkadot_cryptocurrency_headlines['articles'][1]['source']['name']"
   ]
  },
  {
   "cell_type": "code",
   "execution_count": 104,
   "id": "c4907b04-4082-46f8-b695-21ac9c6d2dd1",
   "metadata": {},
   "outputs": [
    {
     "data": {
      "text/plain": [
       "20"
      ]
     },
     "execution_count": 104,
     "metadata": {},
     "output_type": "execute_result"
    }
   ],
   "source": [
    "len(Polkadot_cryptocurrency_headlines['articles'])"
   ]
  },
  {
   "cell_type": "code",
   "execution_count": 105,
   "id": "5862cc35-0d4f-40a0-8b73-94e7bfdbeaea",
   "metadata": {},
   "outputs": [
    {
     "data": {
      "text/plain": [
       "\"CRYPTOVERSE-After bitcoin 'winter', investors hunt risk in virtual worlds - Reuters\""
      ]
     },
     "execution_count": 105,
     "metadata": {},
     "output_type": "execute_result"
    }
   ],
   "source": [
    "Polkadot_cryptocurrency_headlines['articles'][1]['title']"
   ]
  },
  {
   "cell_type": "code",
   "execution_count": 106,
   "id": "2ba3d512-4c5b-4e11-9a2c-7b48f3059351",
   "metadata": {},
   "outputs": [
    {
     "name": "stdout",
     "output_type": "stream",
     "text": [
      "Reuters\n",
      "CRYPTOVERSE-Bitcoin squeezes smaller rivals to its crown - Reuters\n",
      "Bitcoin is beginning to reassert its dominance over challengers to its cryptocurrency crown.\n",
      "Reuters\n",
      "CRYPTOVERSE-After bitcoin 'winter', investors hunt risk in virtual worlds - Reuters\n",
      "As bitcoin drifts towards mainstream maturity in 2022, daring crypto investors are eyeing up new sources of explosive action: \"altcoins\" that power online games and worlds.\n",
      "Reuters\n",
      "Wall St Week Ahead Crypto investors face more uncertainty after rocky start to 2022 - Reuters\n",
      "Investors are bracing for more gyrations in bitcoin and other cryptocurrencies, as worries over a hawkish Federal Reserve threaten to squelch risk appetite across markets.\n",
      "Motley Fool\n",
      "2 Top Cryptocurrencies To Buy and Hold Forever\n",
      "Ethereum and Polkadot have the foundation for lasting success.\n",
      "Motley Fool\n",
      "Why Polkadot, Crypto.com, and Avalanche Jumped Today\n",
      "Is this a bounce worth believing in?\n",
      "Motley Fool\n",
      "Why Dogecoin, Polkadot, and The Sandbox All Jumped Friday\n",
      "There could be good news from Congress on the horizon.\n",
      "Motley Fool\n",
      "Why Solana, Cardano, Polkadot, and Dogecoin All Plunged Today\n",
      "The market has sold off crypto across the board on Friday.\n",
      "Motley Fool\n",
      "Why Polkadot, Solana, Fantom, and Near All Dropped on Tuesday\n",
      "Despite some good news, values were falling today.\n",
      "Motley Fool\n",
      "Why Polkadot, Crypto.com Coin, and Silvergate Capital Jumped Today\n",
      "Investors were coming back to the crypto market today, thanks to some positive news.\n",
      "Motley Fool\n",
      "Why Bitcoin, Ethereum, Polkadot, and Solana Jumped This Weekend\n",
      "Some bullish news from the market and Washington D.C. is helping crypto values this week.\n",
      "Motley Fool\n",
      "Why Polkadot, Chainlink, and The Sandbox Jumped on Tuesday\n",
      "Big institutions are betting big on the future of the metaverse.\n",
      "Motley Fool\n",
      "Missed Out on Solana? Buy This Cryptocurrency Now\n",
      "More and more developers are flocking to this blockchain.\n",
      "Motley Fool\n",
      "My Top Cryptocurrency to Buy and Hold Right Now\n",
      "This cryptocurrency could be bigger than Ethereum a decade from now.\n",
      "Motley Fool\n",
      "My Top 3 Cryptocurrencies to Buy Right Now\n",
      "Development activity is growing, and these cryptocurrencies are leading the way.\n",
      "Motley Fool\n",
      "2 Top Cryptocurrencies to Buy and Hold in 2022 (and Beyond)\n",
      "These beaten-down digital assets could be ready for bull runs this year.\n",
      "The Times of India\n",
      "Crypto week at a glance: Deep correction in digital cart spooks investors\n",
      "In terms of price movement, all of the top 50 cryptocurrencies corrected quite a bit. Near Protocol, Solana, Polkadot, Shiba Inu had a sizable decline over the previous week.\n",
      "Motley Fool\n",
      "Why Polkadot, XRP, Crypto.com Coin, and Theta Network Dropped on Monday\n",
      "Values dropped late Sunday but have recovered sharply on Monday morning.\n",
      "Motley Fool\n",
      "Saturday's Crypto Meltdown: Why Some Cryptocurrencies Are Down Over 25% Today\n",
      "Friday's selling got worse on Saturday morning.\n",
      "Forbes\n",
      "The Rise Of The “New Blockchains”. Where Are Investors And Developers Turning?\n",
      "Don't follow the money. Follow the developers. Here are the main platforms they are building on other than Ethereum.\n",
      "Forbes\n",
      "Ethereum, Cardano, Polygon, Solana, Avalanche And Polkadot Deathmatch. Who Wins, Who Dies?\n",
      "When you click on a DeFi project and it tells you it needs $200 of Ethereum to pay for the transaction, the dream of fast cheap transactions from crypto are shown to be a lie, at least for now. Enter the competitor chains.\n"
     ]
    }
   ],
   "source": [
    "for article in range (len(Polkadot_cryptocurrency_headlines['articles'])):\n",
    "    print(Polkadot_cryptocurrency_headlines['articles'][article]['source']['name'])\n",
    "    print(Polkadot_cryptocurrency_headlines['articles'][article]['title'])\n",
    "    print(Polkadot_cryptocurrency_headlines['articles'][article]['description'])"
   ]
  },
  {
   "cell_type": "code",
   "execution_count": 7,
   "id": "ad441195-33b3-4552-b369-b459f841d42e",
   "metadata": {},
   "outputs": [
    {
     "name": "stderr",
     "output_type": "stream",
     "text": [
      "[nltk_data] Downloading package vader_lexicon to\n",
      "[nltk_data]     C:\\Users\\tinac\\AppData\\Roaming\\nltk_data...\n",
      "[nltk_data]   Package vader_lexicon is already up-to-date!\n"
     ]
    }
   ],
   "source": [
    "# Initial imports\n",
    "import os\n",
    "from pathlib import Path\n",
    "import pandas as pd\n",
    "from newsapi import NewsApiClient\n",
    "import nltk\n",
    "from nltk.sentiment.vader import SentimentIntensityAnalyzer\n",
    "from dotenv import load_dotenv\n",
    "load_dotenv()"
   ]
  },
  {
   "cell_type": "code",
   "execution_count": 29,
   "id": "ee38d417-82a0-4ddf-8b68-a45ed87f8cda",
   "metadata": {},
   "outputs": [
    {
     "name": "stderr",
     "output_type": "stream",
     "text": [
      "[nltk_data] Downloading package vader_lexicon to\n",
      "[nltk_data]     C:\\Users\\tinac\\AppData\\Roaming\\nltk_data...\n",
      "[nltk_data]   Package vader_lexicon is already up-to-date!\n"
     ]
    }
   ],
   "source": [
    "# Download/Update the VADER Lexicon\n",
    "nltk.download('vader_lexicon')\n",
    "\n",
    "# Initialize the VADER sentiment analyzer\n",
    "analyzer = SentimentIntensityAnalyzer()\n"
   ]
  },
  {
   "cell_type": "code",
   "execution_count": 34,
   "id": "a3b43ffb-69bd-4320-9415-9041ee4d0cd8",
   "metadata": {},
   "outputs": [
    {
     "ename": "TypeError",
     "evalue": "tuple indices must be integers or slices, not str",
     "output_type": "error",
     "traceback": [
      "\u001b[1;31m---------------------------------------------------------------------------\u001b[0m",
      "\u001b[1;31mTypeError\u001b[0m                                 Traceback (most recent call last)",
      "\u001b[1;32m~\\AppData\\Local\\Temp/ipykernel_3052/3102223815.py\u001b[0m in \u001b[0;36m<module>\u001b[1;34m\u001b[0m\n\u001b[0;32m      2\u001b[0m \u001b[0mEthereum_sentiments\u001b[0m \u001b[1;33m=\u001b[0m \u001b[1;33m[\u001b[0m\u001b[1;33m]\u001b[0m\u001b[1;33m\u001b[0m\u001b[1;33m\u001b[0m\u001b[0m\n\u001b[0;32m      3\u001b[0m \u001b[1;33m\u001b[0m\u001b[0m\n\u001b[1;32m----> 4\u001b[1;33m \u001b[1;32mfor\u001b[0m \u001b[0marticle\u001b[0m \u001b[1;32min\u001b[0m \u001b[0mEthereum_cryptocurrency_headlines\u001b[0m\u001b[1;33m[\u001b[0m\u001b[1;34m\"articles\"\u001b[0m\u001b[1;33m]\u001b[0m\u001b[1;33m:\u001b[0m\u001b[1;33m\u001b[0m\u001b[1;33m\u001b[0m\u001b[0m\n\u001b[0m\u001b[0;32m      5\u001b[0m     \u001b[1;32mtry\u001b[0m\u001b[1;33m:\u001b[0m\u001b[1;33m\u001b[0m\u001b[1;33m\u001b[0m\u001b[0m\n\u001b[0;32m      6\u001b[0m         \u001b[0mtext\u001b[0m \u001b[1;33m=\u001b[0m \u001b[0marticle\u001b[0m\u001b[1;33m[\u001b[0m\u001b[1;34m\"content\"\u001b[0m\u001b[1;33m]\u001b[0m\u001b[1;33m\u001b[0m\u001b[1;33m\u001b[0m\u001b[0m\n",
      "\u001b[1;31mTypeError\u001b[0m: tuple indices must be integers or slices, not str"
     ]
    }
   ],
   "source": [
    "# Create the Ethereum sentiment scores DataFrame\n",
    "Ethereum_sentiments = []\n",
    "\n",
    "for article in Ethereum_cryptocurrency_headlines[\"articles\"]:\n",
    "    try:\n",
    "        text = article[\"content\"]\n",
    "        date = article[\"publishedAt\"][:10]\n",
    "        sentiment = analyzer.polarity_scores(text)\n",
    "        compound = sentiment[\"compound\"]\n",
    "        pos = sentiment[\"pos\"]\n",
    "        neu = sentiment[\"neu\"]\n",
    "        neg = sentiment[\"neg\"]\n",
    "        \n",
    "        Ethereum_sentiments.append({\n",
    "            \"text\": text,\n",
    "            \"date\": date,\n",
    "            \"compound\": compound,\n",
    "            \"positive\": pos,\n",
    "            \"negative\": neg,\n",
    "            \"neutral\": neu\n",
    "            \n",
    "        })\n",
    "        \n",
    "    except AttributeError:\n",
    "        pass\n",
    "    \n",
    "# Create DataFrame\n",
    "Ethereum_df = pd.DataFrame(Ethereum_sentiments)\n",
    "\n",
    "# Reorder DataFrame columns\n",
    "cols = [\"date\", \"text\", \"compound\", \"positive\", \"negative\", \"neutral\"]\n",
    "Ethereum_df = Ethereum_df[cols]\n",
    "\n",
    "Ethereum_df.head()"
   ]
  },
  {
   "cell_type": "code",
   "execution_count": 32,
   "id": "c936b189-6401-44c3-bb4f-6b89b2fc6635",
   "metadata": {},
   "outputs": [
    {
     "data": {
      "text/plain": [
       "True"
      ]
     },
     "execution_count": 32,
     "metadata": {},
     "output_type": "execute_result"
    }
   ],
   "source": []
  },
  {
   "cell_type": "code",
   "execution_count": 30,
   "id": "743f5902-4fbf-473d-9d7f-6a5eb0d456e3",
   "metadata": {},
   "outputs": [
    {
     "ename": "NameError",
     "evalue": "name 'ethereum_crytocurrency_headlines' is not defined",
     "output_type": "error",
     "traceback": [
      "\u001b[1;31m---------------------------------------------------------------------------\u001b[0m",
      "\u001b[1;31mNameError\u001b[0m                                 Traceback (most recent call last)",
      "\u001b[1;32m~\\AppData\\Local\\Temp/ipykernel_3052/629283139.py\u001b[0m in \u001b[0;36m<module>\u001b[1;34m\u001b[0m\n\u001b[1;32m----> 1\u001b[1;33m \u001b[1;32mfor\u001b[0m \u001b[0marticle\u001b[0m \u001b[1;32min\u001b[0m \u001b[0methereum_crytocurrency_headlines\u001b[0m\u001b[1;33m[\u001b[0m\u001b[1;34m\"articles\"\u001b[0m\u001b[1;33m]\u001b[0m\u001b[1;33m:\u001b[0m\u001b[1;33m\u001b[0m\u001b[1;33m\u001b[0m\u001b[0m\n\u001b[0m\u001b[0;32m      2\u001b[0m     \u001b[1;32mtry\u001b[0m\u001b[1;33m:\u001b[0m\u001b[1;33m\u001b[0m\u001b[1;33m\u001b[0m\u001b[0m\n\u001b[0;32m      3\u001b[0m         \u001b[0mtext\u001b[0m \u001b[1;33m=\u001b[0m \u001b[0marticle\u001b[0m\u001b[1;33m[\u001b[0m\u001b[1;34m\"content\"\u001b[0m\u001b[1;33m]\u001b[0m\u001b[1;33m\u001b[0m\u001b[1;33m\u001b[0m\u001b[0m\n\u001b[0;32m      4\u001b[0m         \u001b[0mdate\u001b[0m \u001b[1;33m=\u001b[0m \u001b[0marticle\u001b[0m\u001b[1;33m[\u001b[0m\u001b[1;34m\"publishedAt\"\u001b[0m\u001b[1;33m]\u001b[0m\u001b[1;33m[\u001b[0m\u001b[1;33m:\u001b[0m\u001b[1;36m10\u001b[0m\u001b[1;33m]\u001b[0m\u001b[1;33m\u001b[0m\u001b[1;33m\u001b[0m\u001b[0m\n\u001b[0;32m      5\u001b[0m         \u001b[0msentiment\u001b[0m \u001b[1;33m=\u001b[0m \u001b[0manalyzer\u001b[0m\u001b[1;33m.\u001b[0m\u001b[0mpolarity_scores\u001b[0m\u001b[1;33m(\u001b[0m\u001b[0mtext\u001b[0m\u001b[1;33m)\u001b[0m\u001b[1;33m\u001b[0m\u001b[1;33m\u001b[0m\u001b[0m\n",
      "\u001b[1;31mNameError\u001b[0m: name 'ethereum_crytocurrency_headlines' is not defined"
     ]
    }
   ],
   "source": [
    "for article in ethereum_crytocurrency_headlines[\"articles\"]:\n",
    "    try:\n",
    "        text = article[\"content\"]\n",
    "        date = article[\"publishedAt\"][:10]\n",
    "        sentiment = analyzer.polarity_scores(text)\n",
    "        compound = sentiment[\"compound\"]\n",
    "        pos = sentiment[\"pos\"]\n",
    "        neu = sentiment[\"neu\"]\n",
    "        neg = sentiment[\"neg\"]\n",
    "        \n",
    "        ethereum_sentiments.append({\n",
    "            \"text\": text,\n",
    "            \"date\": date,\n",
    "            \"compound\": compound,\n",
    "            \"positive\": pos,\n",
    "            \"negative\": neg,\n",
    "            \"neutral\": neu\n",
    "            \n",
    "        })\n",
    "        \n",
    "    except AttributeError:\n",
    "        pass\n",
    "    \n",
    "# Create DataFrame\n",
    "ethereum_df = pd.DataFrame(ethereum_sentiments)\n",
    "\n",
    "# Reorder DataFrame columns\n",
    "cols = [\"date\", \"text\", \"compound\", \"positive\", \"negative\", \"neutral\"]\n",
    "ethereum_df = ethereum_df[cols]\n",
    "\n",
    "ethereum_df.head()"
   ]
  },
  {
   "cell_type": "code",
   "execution_count": 32,
   "id": "42c3a6bf-1ddf-433d-ae94-36424290c37b",
   "metadata": {},
   "outputs": [
    {
     "data": {
      "text/plain": [
       "True"
      ]
     },
     "execution_count": 32,
     "metadata": {},
     "output_type": "execute_result"
    }
   ],
   "source": []
  },
  {
   "cell_type": "code",
   "execution_count": null,
   "id": "99139cbe-064e-4b77-a1e2-b2ba64693070",
   "metadata": {},
   "outputs": [],
   "source": []
  },
  {
   "cell_type": "code",
   "execution_count": null,
   "id": "4765280b-7393-49c2-9ca8-e51022ecb1f1",
   "metadata": {},
   "outputs": [],
   "source": []
  }
 ],
 "metadata": {
  "kernelspec": {
   "display_name": "Python 3 (ipykernel)",
   "language": "python",
   "name": "python3"
  },
  "language_info": {
   "codemirror_mode": {
    "name": "ipython",
    "version": 3
   },
   "file_extension": ".py",
   "mimetype": "text/x-python",
   "name": "python",
   "nbconvert_exporter": "python",
   "pygments_lexer": "ipython3",
   "version": "3.9.7"
  }
 },
 "nbformat": 4,
 "nbformat_minor": 5
}
